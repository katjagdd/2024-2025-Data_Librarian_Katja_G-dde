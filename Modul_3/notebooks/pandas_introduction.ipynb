{
 "cells": [
  {
   "cell_type": "code",
   "execution_count": 3,
   "id": "1e60f41b-7f88-48e8-869c-90c2a842508d",
   "metadata": {},
   "outputs": [],
   "source": [
    "import pandas as pd"
   ]
  },
  {
   "cell_type": "markdown",
   "id": "6cfcc688-bd4c-49cb-b8b8-c433e412e27c",
   "metadata": {},
   "source": [
    "# Beispiel 1"
   ]
  },
  {
   "cell_type": "code",
   "execution_count": 7,
   "id": "87837874-6d6a-4241-806a-7ea9751f34e8",
   "metadata": {},
   "outputs": [
    {
     "name": "stdout",
     "output_type": "stream",
     "text": [
      "0    34\n",
      "1    12\n",
      "2    23\n",
      "3    45\n",
      "dtype: int64\n"
     ]
    },
    {
     "data": {
      "text/plain": [
       "dtype('int64')"
      ]
     },
     "execution_count": 7,
     "metadata": {},
     "output_type": "execute_result"
    }
   ],
   "source": [
    "x = pd.Series([34, 12, 23, 45])\n",
    "print(x)\n",
    "x.dtype"
   ]
  },
  {
   "cell_type": "markdown",
   "id": "dbc6a5f0-49da-44cc-93a2-e0534e2a88dd",
   "metadata": {},
   "source": [
    "Das Skalenniveau ist verhältnisskaliert, da die Werte metrisch sind und einen natürlichen Nullpunkt besitzen\n",
    "Die Variable ist diskret, da es sich um ganze Zahlen handelt. Diese können abzählbar unendlich viele Werte annehmen. "
   ]
  },
  {
   "cell_type": "markdown",
   "id": "c9c28ffc-454f-4e92-b689-1602469dc800",
   "metadata": {},
   "source": [
    "# Beispiel 2"
   ]
  },
  {
   "cell_type": "code",
   "execution_count": 9,
   "id": "e24bceb7-2e00-4885-a704-758e317e9adc",
   "metadata": {},
   "outputs": [
    {
     "name": "stdout",
     "output_type": "stream",
     "text": [
      "  month  temp  below_zero\n",
      "0   Jan    -5        True\n",
      "1   Feb     2       False\n",
      "2   Mar     3       False\n"
     ]
    }
   ],
   "source": [
    "data = {'month': ['Jan', 'Feb', 'Mar'],\n",
    "        'temp': [-5, 2, 3],\n",
    "         'below_zero': [True, False, False]}\n",
    "df = pd.DataFrame(data)\n",
    "print(df)"
   ]
  },
  {
   "cell_type": "code",
   "execution_count": 21,
   "id": "36bfbb0e-6378-401b-aad2-c76d2ece3253",
   "metadata": {},
   "outputs": [
    {
     "name": "stdout",
     "output_type": "stream",
     "text": [
      "month         object\n",
      "temp           int64\n",
      "below_zero      bool\n",
      "dtype: object\n"
     ]
    }
   ],
   "source": [
    "# Datentypen der einzelnen Spalten\n",
    "print(df.dtypes)"
   ]
  },
  {
   "cell_type": "markdown",
   "id": "02b2340a-d430-4da6-84ac-0b2b4a30e66c",
   "metadata": {},
   "source": [
    "Die Skalenniveaus sind:\n",
    "- month: nominal, da die Werte in keine sinnvoll geordnete Reihenfolge gebracht werden können.\n",
    "- temp: intervallskaliert, da mit den Werten sinnvoll gerechnet werden kann, sie aber keinen natürlichen Nullpunkt besitzen. \n",
    "- below_zero: nominal, da die Werte in keine sinnvoll geordnete Reihenfolge gebracht werden können.\n",
    "Die Variablen sind: \n",
    "- month: diskret, da abzählbare viele endliche Werte angenommen werden können. \n",
    "- temp: diskret, da für ein integer Objekt abzählbar unendlich viele Werte angenommen werden können.\n",
    "- below_zero: disrket, da abzählbar viele endliche Werte angenommen werden können"
   ]
  },
  {
   "cell_type": "code",
   "execution_count": 26,
   "id": "d98ee20d-8379-436a-9621-7b78ecaec911",
   "metadata": {},
   "outputs": [
    {
     "name": "stdout",
     "output_type": "stream",
     "text": [
      "  month  temp  below_zero\n",
      "0   Jan    -5        True\n",
      "1   Feb     2       False\n",
      "2   Mar     3       False\n",
      "3   Apr    10       False\n",
      "4   Apr    10       False\n"
     ]
    }
   ],
   "source": [
    "# Neue Zeile zum DataFrame hinzufügen\n",
    "df.loc[len(df)] = ['Apr', 10, False]  \n",
    "print(df)"
   ]
  },
  {
   "cell_type": "code",
   "execution_count": 30,
   "id": "b322ae60-89dc-4d5c-93fb-7f0ae138b7b2",
   "metadata": {},
   "outputs": [
    {
     "name": "stdout",
     "output_type": "stream",
     "text": [
      "  month  temp  below_zero  year\n",
      "0   Jan    -5        True  2020\n",
      "1   Feb     2       False  2020\n",
      "2   Mar     3       False  2020\n",
      "3   Apr    10       False  2020\n",
      "4   Apr    10       False  2020\n"
     ]
    }
   ],
   "source": [
    "# Neue Spalte 'year' mit dem gleichen Wert für alle Zeilen hinzufügen\n",
    "df['year'] = '2020'\n",
    "print(df)"
   ]
  },
  {
   "cell_type": "code",
   "execution_count": null,
   "id": "b4b63305-aa74-41ab-b00c-0a0413cbb111",
   "metadata": {},
   "outputs": [],
   "source": []
  }
 ],
 "metadata": {
  "kernelspec": {
   "display_name": "Python [conda env:base] *",
   "language": "python",
   "name": "conda-base-py"
  },
  "language_info": {
   "codemirror_mode": {
    "name": "ipython",
    "version": 3
   },
   "file_extension": ".py",
   "mimetype": "text/x-python",
   "name": "python",
   "nbconvert_exporter": "python",
   "pygments_lexer": "ipython3",
   "version": "3.12.7"
  }
 },
 "nbformat": 4,
 "nbformat_minor": 5
}
