{
 "cells": [
  {
   "cell_type": "markdown",
   "id": "f5720515-be46-460b-bfdc-65dd922cc9d2",
   "metadata": {},
   "source": [
    "# Projektaufgabe zu Modul 3\n",
    "Zu diesem Notebook: Ich habe zunächst die Aufgaben auf der Kurswebseite bearbeitet (bis auf die Exkurse) und die Beispiele nachvollzogen. Die eigentliche Bearbeitung der Projektaufgabe folgt danach. \n",
    "- Name: Katja Gödde\n",
    "- Datum: 14.02.2025"
   ]
  },
  {
   "cell_type": "code",
   "execution_count": 213,
   "id": "916acd55-50f1-4fe9-9abf-73ab9178ccb2",
   "metadata": {},
   "outputs": [],
   "source": [
    "import pandas as pd\n",
    "import matplotlib.pyplot as plt\n",
    "import numpy as np\n",
    "import seaborn as sns\n",
    "%matplotlib inline\n",
    "sns.set_theme()"
   ]
  },
  {
   "cell_type": "code",
   "execution_count": 214,
   "id": "8f5ab2fe-42f5-4fdc-b9b8-9603cf34a1c5",
   "metadata": {},
   "outputs": [],
   "source": [
    "df = pd.read_csv(\"/home/katja/2024-2025-Data_Lirbrarian_Katja_Gödde/Modul_3/data/Library_Usage.csv\", dtype={\"Within San Francisco County\": str}, na_values=['Null', 'NA', ''], low_memory=False)  "
   ]
  },
  {
   "cell_type": "code",
   "execution_count": 215,
   "id": "cbb95a67-034a-4515-b10a-f34c6d11d6d2",
   "metadata": {},
   "outputs": [
    {
     "data": {
      "text/html": [
       "<div>\n",
       "<style scoped>\n",
       "    .dataframe tbody tr th:only-of-type {\n",
       "        vertical-align: middle;\n",
       "    }\n",
       "\n",
       "    .dataframe tbody tr th {\n",
       "        vertical-align: top;\n",
       "    }\n",
       "\n",
       "    .dataframe thead th {\n",
       "        text-align: right;\n",
       "    }\n",
       "</style>\n",
       "<table border=\"1\" class=\"dataframe\">\n",
       "  <thead>\n",
       "    <tr style=\"text-align: right;\">\n",
       "      <th></th>\n",
       "      <th>Patron Type Definition</th>\n",
       "      <th>Total Checkouts</th>\n",
       "      <th>Total Renewals</th>\n",
       "      <th>Age Range</th>\n",
       "      <th>Home Library Definition</th>\n",
       "      <th>Circulation Active Month</th>\n",
       "      <th>Circulation Active Year</th>\n",
       "      <th>Notice Preference Definition</th>\n",
       "      <th>Provided Email Address</th>\n",
       "      <th>Year Patron Registered</th>\n",
       "      <th>Within San Francisco County</th>\n",
       "    </tr>\n",
       "  </thead>\n",
       "  <tbody>\n",
       "    <tr>\n",
       "      <th>0</th>\n",
       "      <td>Senior</td>\n",
       "      <td>5</td>\n",
       "      <td>0</td>\n",
       "      <td>75 years and over</td>\n",
       "      <td>Main</td>\n",
       "      <td>Nov</td>\n",
       "      <td>2022.0</td>\n",
       "      <td>Email</td>\n",
       "      <td>True</td>\n",
       "      <td>2015</td>\n",
       "      <td>False</td>\n",
       "    </tr>\n",
       "    <tr>\n",
       "      <th>1</th>\n",
       "      <td>Adult</td>\n",
       "      <td>0</td>\n",
       "      <td>0</td>\n",
       "      <td>45 to 54 years</td>\n",
       "      <td>Main</td>\n",
       "      <td>Jul</td>\n",
       "      <td>2023.0</td>\n",
       "      <td>Email</td>\n",
       "      <td>True</td>\n",
       "      <td>2019</td>\n",
       "      <td>False</td>\n",
       "    </tr>\n",
       "    <tr>\n",
       "      <th>2</th>\n",
       "      <td>Adult</td>\n",
       "      <td>0</td>\n",
       "      <td>0</td>\n",
       "      <td>55 to 59 years</td>\n",
       "      <td>Western Addition</td>\n",
       "      <td>Mar</td>\n",
       "      <td>2024.0</td>\n",
       "      <td>Email</td>\n",
       "      <td>True</td>\n",
       "      <td>2022</td>\n",
       "      <td>False</td>\n",
       "    </tr>\n",
       "    <tr>\n",
       "      <th>3</th>\n",
       "      <td>Welcome</td>\n",
       "      <td>1</td>\n",
       "      <td>1</td>\n",
       "      <td>20 to 24 years</td>\n",
       "      <td>Richmond</td>\n",
       "      <td>Aug</td>\n",
       "      <td>2022.0</td>\n",
       "      <td>Email</td>\n",
       "      <td>True</td>\n",
       "      <td>2022</td>\n",
       "      <td>False</td>\n",
       "    </tr>\n",
       "    <tr>\n",
       "      <th>4</th>\n",
       "      <td>Senior</td>\n",
       "      <td>0</td>\n",
       "      <td>0</td>\n",
       "      <td>65 to 74 years</td>\n",
       "      <td>Sunset</td>\n",
       "      <td>Mar</td>\n",
       "      <td>2024.0</td>\n",
       "      <td>Print</td>\n",
       "      <td>False</td>\n",
       "      <td>2023</td>\n",
       "      <td>False</td>\n",
       "    </tr>\n",
       "    <tr>\n",
       "      <th>...</th>\n",
       "      <td>...</td>\n",
       "      <td>...</td>\n",
       "      <td>...</td>\n",
       "      <td>...</td>\n",
       "      <td>...</td>\n",
       "      <td>...</td>\n",
       "      <td>...</td>\n",
       "      <td>...</td>\n",
       "      <td>...</td>\n",
       "      <td>...</td>\n",
       "      <td>...</td>\n",
       "    </tr>\n",
       "    <tr>\n",
       "      <th>450354</th>\n",
       "      <td>Digital Access Card</td>\n",
       "      <td>0</td>\n",
       "      <td>0</td>\n",
       "      <td>35 to 44 years</td>\n",
       "      <td>Ingleside</td>\n",
       "      <td>NaN</td>\n",
       "      <td>NaN</td>\n",
       "      <td>Email</td>\n",
       "      <td>False</td>\n",
       "      <td>2023</td>\n",
       "      <td>NaN</td>\n",
       "    </tr>\n",
       "    <tr>\n",
       "      <th>450355</th>\n",
       "      <td>Digital Access Card</td>\n",
       "      <td>0</td>\n",
       "      <td>0</td>\n",
       "      <td>45 to 54 years</td>\n",
       "      <td>Ingleside</td>\n",
       "      <td>Aug</td>\n",
       "      <td>2022.0</td>\n",
       "      <td>Print</td>\n",
       "      <td>False</td>\n",
       "      <td>2022</td>\n",
       "      <td>NaN</td>\n",
       "    </tr>\n",
       "    <tr>\n",
       "      <th>450356</th>\n",
       "      <td>Digital Access Card</td>\n",
       "      <td>0</td>\n",
       "      <td>0</td>\n",
       "      <td>25 to 34 years</td>\n",
       "      <td>Ingleside</td>\n",
       "      <td>Aug</td>\n",
       "      <td>2022.0</td>\n",
       "      <td>Print</td>\n",
       "      <td>False</td>\n",
       "      <td>2022</td>\n",
       "      <td>NaN</td>\n",
       "    </tr>\n",
       "    <tr>\n",
       "      <th>450357</th>\n",
       "      <td>Digital Access Card</td>\n",
       "      <td>0</td>\n",
       "      <td>0</td>\n",
       "      <td>35 to 44 years</td>\n",
       "      <td>Ingleside</td>\n",
       "      <td>Apr</td>\n",
       "      <td>2022.0</td>\n",
       "      <td>Print</td>\n",
       "      <td>False</td>\n",
       "      <td>2022</td>\n",
       "      <td>NaN</td>\n",
       "    </tr>\n",
       "    <tr>\n",
       "      <th>450358</th>\n",
       "      <td>Digital Access Card</td>\n",
       "      <td>0</td>\n",
       "      <td>0</td>\n",
       "      <td>65 to 74 years</td>\n",
       "      <td>Bayview</td>\n",
       "      <td>Apr</td>\n",
       "      <td>2023.0</td>\n",
       "      <td>Email</td>\n",
       "      <td>False</td>\n",
       "      <td>2023</td>\n",
       "      <td>NaN</td>\n",
       "    </tr>\n",
       "  </tbody>\n",
       "</table>\n",
       "<p>450359 rows × 11 columns</p>\n",
       "</div>"
      ],
      "text/plain": [
       "       Patron Type Definition  Total Checkouts  Total Renewals  \\\n",
       "0                      Senior                5               0   \n",
       "1                       Adult                0               0   \n",
       "2                       Adult                0               0   \n",
       "3                     Welcome                1               1   \n",
       "4                      Senior                0               0   \n",
       "...                       ...              ...             ...   \n",
       "450354    Digital Access Card                0               0   \n",
       "450355    Digital Access Card                0               0   \n",
       "450356    Digital Access Card                0               0   \n",
       "450357    Digital Access Card                0               0   \n",
       "450358    Digital Access Card                0               0   \n",
       "\n",
       "                Age Range Home Library Definition Circulation Active Month  \\\n",
       "0       75 years and over                    Main                      Nov   \n",
       "1          45 to 54 years                    Main                      Jul   \n",
       "2          55 to 59 years        Western Addition                      Mar   \n",
       "3          20 to 24 years                Richmond                      Aug   \n",
       "4          65 to 74 years                  Sunset                      Mar   \n",
       "...                   ...                     ...                      ...   \n",
       "450354     35 to 44 years               Ingleside                      NaN   \n",
       "450355     45 to 54 years               Ingleside                      Aug   \n",
       "450356     25 to 34 years               Ingleside                      Aug   \n",
       "450357     35 to 44 years               Ingleside                      Apr   \n",
       "450358     65 to 74 years                 Bayview                      Apr   \n",
       "\n",
       "        Circulation Active Year Notice Preference Definition  \\\n",
       "0                        2022.0                        Email   \n",
       "1                        2023.0                        Email   \n",
       "2                        2024.0                        Email   \n",
       "3                        2022.0                        Email   \n",
       "4                        2024.0                        Print   \n",
       "...                         ...                          ...   \n",
       "450354                      NaN                        Email   \n",
       "450355                   2022.0                        Print   \n",
       "450356                   2022.0                        Print   \n",
       "450357                   2022.0                        Print   \n",
       "450358                   2023.0                        Email   \n",
       "\n",
       "        Provided Email Address  Year Patron Registered  \\\n",
       "0                         True                    2015   \n",
       "1                         True                    2019   \n",
       "2                         True                    2022   \n",
       "3                         True                    2022   \n",
       "4                        False                    2023   \n",
       "...                        ...                     ...   \n",
       "450354                   False                    2023   \n",
       "450355                   False                    2022   \n",
       "450356                   False                    2022   \n",
       "450357                   False                    2022   \n",
       "450358                   False                    2023   \n",
       "\n",
       "       Within San Francisco County  \n",
       "0                            False  \n",
       "1                            False  \n",
       "2                            False  \n",
       "3                            False  \n",
       "4                            False  \n",
       "...                            ...  \n",
       "450354                         NaN  \n",
       "450355                         NaN  \n",
       "450356                         NaN  \n",
       "450357                         NaN  \n",
       "450358                         NaN  \n",
       "\n",
       "[450359 rows x 11 columns]"
      ]
     },
     "execution_count": 215,
     "metadata": {},
     "output_type": "execute_result"
    }
   ],
   "source": [
    "df"
   ]
  },
  {
   "cell_type": "markdown",
   "id": "4e792950-1370-4b76-b6d2-a2b3024a3046",
   "metadata": {},
   "source": [
    "# 3.1 Häufigkeiten"
   ]
  },
  {
   "cell_type": "code",
   "execution_count": 217,
   "id": "f5d69477-16ac-48d3-a8db-e46c1d95cb4f",
   "metadata": {},
   "outputs": [],
   "source": [
    "# Nachvollziehen der Beispiele"
   ]
  },
  {
   "cell_type": "code",
   "execution_count": 218,
   "id": "a4a3bba9-2c5b-46aa-a9b3-8c00927b27bb",
   "metadata": {},
   "outputs": [
    {
     "data": {
      "text/plain": [
       "Age Range\n",
       "25 to 34 years       95278\n",
       "35 to 44 years       85669\n",
       "10 to 19 years       67758\n",
       "45 to 54 years       49820\n",
       "0 to 9 years         33180\n",
       "65 to 74 years       32455\n",
       "20 to 24 years       27145\n",
       "75 years and over    20721\n",
       "55 to 59 years       19735\n",
       "60 to 64 years       18088\n",
       "Name: count, dtype: int64"
      ]
     },
     "execution_count": 218,
     "metadata": {},
     "output_type": "execute_result"
    }
   ],
   "source": [
    "df['Age Range'].value_counts()"
   ]
  },
  {
   "cell_type": "code",
   "execution_count": 219,
   "id": "da24136b-7158-4b18-8f2d-c544f1f51a31",
   "metadata": {},
   "outputs": [
    {
     "data": {
      "text/plain": [
       "Age Range\n",
       "25 to 34 years       0.211800\n",
       "35 to 44 years       0.190439\n",
       "10 to 19 years       0.150624\n",
       "45 to 54 years       0.110748\n",
       "0 to 9 years         0.073758\n",
       "65 to 74 years       0.072146\n",
       "20 to 24 years       0.060342\n",
       "75 years and over    0.046062\n",
       "55 to 59 years       0.043870\n",
       "60 to 64 years       0.040209\n",
       "Name: proportion, dtype: float64"
      ]
     },
     "execution_count": 219,
     "metadata": {},
     "output_type": "execute_result"
    }
   ],
   "source": [
    "df['Age Range'].value_counts(normalize=True)"
   ]
  },
  {
   "cell_type": "code",
   "execution_count": 220,
   "id": "14954ba7-5adb-4d3b-9125-039c87a081c5",
   "metadata": {},
   "outputs": [
    {
     "data": {
      "text/plain": [
       "'25 to 34 years'"
      ]
     },
     "execution_count": 220,
     "metadata": {},
     "output_type": "execute_result"
    }
   ],
   "source": [
    "age_mode = df['Age Range'].mode()\n",
    "age_mode[0]"
   ]
  },
  {
   "cell_type": "code",
   "execution_count": 221,
   "id": "cf900d50-13c7-4e07-81e4-e071f106d07d",
   "metadata": {},
   "outputs": [
    {
     "data": {
      "text/plain": [
       "Year Patron Registered\n",
       "2023    0.132654\n",
       "2022    0.115015\n",
       "2003    0.088927\n",
       "2021    0.072678\n",
       "2019    0.072502\n",
       "2020    0.065870\n",
       "2017    0.064515\n",
       "2018    0.062939\n",
       "2016    0.048117\n",
       "2015    0.043767\n",
       "2014    0.033917\n",
       "2013    0.028750\n",
       "2012    0.027600\n",
       "2011    0.026841\n",
       "2009    0.024580\n",
       "2010    0.024363\n",
       "2008    0.021705\n",
       "2007    0.014033\n",
       "2006    0.011302\n",
       "2005    0.010263\n",
       "2004    0.009661\n",
       "Name: proportion, dtype: float64"
      ]
     },
     "execution_count": 221,
     "metadata": {},
     "output_type": "execute_result"
    }
   ],
   "source": [
    "# Häufigkeitsverteilung für die Variable 'Year Patron Registered'\n",
    "df['Year Patron Registered'].value_counts(normalize=True)"
   ]
  },
  {
   "cell_type": "code",
   "execution_count": 222,
   "id": "4abdcf10-91a4-4dbd-a261-b1981ba9483a",
   "metadata": {},
   "outputs": [],
   "source": [
    "# 2,8% der Kunden wurden im Jahr 2013 registriert. Die meisten Kunden (13,2%) wurden im Jahr 2023 registriert.\n",
    "# Auffällig ist, dass man fast sagen kann, dass pro Jahr immer mehr Kunden registriert worden sind mit Ausnahme von Jahr 2003."
   ]
  },
  {
   "cell_type": "code",
   "execution_count": 223,
   "id": "de6795f4-d154-417d-9e4f-c6cd248d4d8e",
   "metadata": {},
   "outputs": [],
   "source": [
    "# Wieviel Prozent der Kunden sind zwischen 25 und 34 Jahren?"
   ]
  },
  {
   "cell_type": "code",
   "execution_count": 224,
   "id": "8b443af7-01d9-4fbf-a9ac-1eec07afe011",
   "metadata": {},
   "outputs": [
    {
     "data": {
      "text/plain": [
       "Age Range\n",
       "25 to 34 years       0.211800\n",
       "35 to 44 years       0.190439\n",
       "10 to 19 years       0.150624\n",
       "45 to 54 years       0.110748\n",
       "0 to 9 years         0.073758\n",
       "65 to 74 years       0.072146\n",
       "20 to 24 years       0.060342\n",
       "75 years and over    0.046062\n",
       "55 to 59 years       0.043870\n",
       "60 to 64 years       0.040209\n",
       "Name: proportion, dtype: float64"
      ]
     },
     "execution_count": 224,
     "metadata": {},
     "output_type": "execute_result"
    }
   ],
   "source": [
    "df['Age Range'].value_counts(normalize=True)"
   ]
  },
  {
   "cell_type": "code",
   "execution_count": 225,
   "id": "b4436e45-393b-4d4a-b991-d2bea07f17cf",
   "metadata": {},
   "outputs": [],
   "source": [
    "# 21,18% der Kunden sind zwischen 25 und 34 Jahren."
   ]
  },
  {
   "cell_type": "code",
   "execution_count": 226,
   "id": "96fb135f-5a9b-4321-8b9b-5990480ede98",
   "metadata": {},
   "outputs": [],
   "source": [
    "# Ersetze die fehlenden Werte in der Spalte Age Range durch den Modus dieser Spalte. "
   ]
  },
  {
   "cell_type": "code",
   "execution_count": 227,
   "id": "6f89129b-9a7e-4c1e-9241-8fbf3cf8ff45",
   "metadata": {},
   "outputs": [
    {
     "data": {
      "text/plain": [
       "0         False\n",
       "1         False\n",
       "2         False\n",
       "3         False\n",
       "4         False\n",
       "          ...  \n",
       "450354    False\n",
       "450355    False\n",
       "450356    False\n",
       "450357    False\n",
       "450358    False\n",
       "Name: Age Range, Length: 450359, dtype: bool"
      ]
     },
     "execution_count": 227,
     "metadata": {},
     "output_type": "execute_result"
    }
   ],
   "source": [
    "df['Age Range'].isna()"
   ]
  },
  {
   "cell_type": "code",
   "execution_count": 228,
   "id": "38ddda4e-db8d-49fb-9e8d-e8310c9ed2a2",
   "metadata": {},
   "outputs": [
    {
     "data": {
      "text/html": [
       "<div>\n",
       "<style scoped>\n",
       "    .dataframe tbody tr th:only-of-type {\n",
       "        vertical-align: middle;\n",
       "    }\n",
       "\n",
       "    .dataframe tbody tr th {\n",
       "        vertical-align: top;\n",
       "    }\n",
       "\n",
       "    .dataframe thead th {\n",
       "        text-align: right;\n",
       "    }\n",
       "</style>\n",
       "<table border=\"1\" class=\"dataframe\">\n",
       "  <thead>\n",
       "    <tr style=\"text-align: right;\">\n",
       "      <th></th>\n",
       "      <th>Patron Type Definition</th>\n",
       "      <th>Total Checkouts</th>\n",
       "      <th>Total Renewals</th>\n",
       "      <th>Age Range</th>\n",
       "      <th>Home Library Definition</th>\n",
       "      <th>Circulation Active Month</th>\n",
       "      <th>Circulation Active Year</th>\n",
       "      <th>Notice Preference Definition</th>\n",
       "      <th>Provided Email Address</th>\n",
       "      <th>Year Patron Registered</th>\n",
       "      <th>Within San Francisco County</th>\n",
       "    </tr>\n",
       "  </thead>\n",
       "  <tbody>\n",
       "    <tr>\n",
       "      <th>2010</th>\n",
       "      <td>Adult</td>\n",
       "      <td>0</td>\n",
       "      <td>0</td>\n",
       "      <td>NaN</td>\n",
       "      <td>Main</td>\n",
       "      <td>May</td>\n",
       "      <td>2021.0</td>\n",
       "      <td>Email</td>\n",
       "      <td>True</td>\n",
       "      <td>2017</td>\n",
       "      <td>False</td>\n",
       "    </tr>\n",
       "    <tr>\n",
       "      <th>3603</th>\n",
       "      <td>Digital Access Card</td>\n",
       "      <td>0</td>\n",
       "      <td>0</td>\n",
       "      <td>NaN</td>\n",
       "      <td>Main</td>\n",
       "      <td>Mar</td>\n",
       "      <td>2024.0</td>\n",
       "      <td>Email</td>\n",
       "      <td>True</td>\n",
       "      <td>2019</td>\n",
       "      <td>False</td>\n",
       "    </tr>\n",
       "    <tr>\n",
       "      <th>5212</th>\n",
       "      <td>Adult</td>\n",
       "      <td>5</td>\n",
       "      <td>4</td>\n",
       "      <td>NaN</td>\n",
       "      <td>Main</td>\n",
       "      <td>Mar</td>\n",
       "      <td>2024.0</td>\n",
       "      <td>Email</td>\n",
       "      <td>True</td>\n",
       "      <td>2022</td>\n",
       "      <td>False</td>\n",
       "    </tr>\n",
       "    <tr>\n",
       "      <th>5523</th>\n",
       "      <td>Adult</td>\n",
       "      <td>0</td>\n",
       "      <td>0</td>\n",
       "      <td>NaN</td>\n",
       "      <td>Main</td>\n",
       "      <td>Feb</td>\n",
       "      <td>2024.0</td>\n",
       "      <td>Email</td>\n",
       "      <td>True</td>\n",
       "      <td>2023</td>\n",
       "      <td>False</td>\n",
       "    </tr>\n",
       "    <tr>\n",
       "      <th>6521</th>\n",
       "      <td>Adult</td>\n",
       "      <td>0</td>\n",
       "      <td>0</td>\n",
       "      <td>NaN</td>\n",
       "      <td>Main</td>\n",
       "      <td>Mar</td>\n",
       "      <td>2024.0</td>\n",
       "      <td>Email</td>\n",
       "      <td>True</td>\n",
       "      <td>2018</td>\n",
       "      <td>False</td>\n",
       "    </tr>\n",
       "    <tr>\n",
       "      <th>...</th>\n",
       "      <td>...</td>\n",
       "      <td>...</td>\n",
       "      <td>...</td>\n",
       "      <td>...</td>\n",
       "      <td>...</td>\n",
       "      <td>...</td>\n",
       "      <td>...</td>\n",
       "      <td>...</td>\n",
       "      <td>...</td>\n",
       "      <td>...</td>\n",
       "      <td>...</td>\n",
       "    </tr>\n",
       "    <tr>\n",
       "      <th>450329</th>\n",
       "      <td>Digital Access Card</td>\n",
       "      <td>0</td>\n",
       "      <td>0</td>\n",
       "      <td>NaN</td>\n",
       "      <td>Glen Park</td>\n",
       "      <td>Aug</td>\n",
       "      <td>2022.0</td>\n",
       "      <td>Print</td>\n",
       "      <td>False</td>\n",
       "      <td>2022</td>\n",
       "      <td>NaN</td>\n",
       "    </tr>\n",
       "    <tr>\n",
       "      <th>450331</th>\n",
       "      <td>Digital Access Card</td>\n",
       "      <td>0</td>\n",
       "      <td>0</td>\n",
       "      <td>NaN</td>\n",
       "      <td>Glen Park</td>\n",
       "      <td>Oct</td>\n",
       "      <td>2021.0</td>\n",
       "      <td>Print</td>\n",
       "      <td>False</td>\n",
       "      <td>2021</td>\n",
       "      <td>NaN</td>\n",
       "    </tr>\n",
       "    <tr>\n",
       "      <th>450333</th>\n",
       "      <td>Digital Access Card</td>\n",
       "      <td>0</td>\n",
       "      <td>0</td>\n",
       "      <td>NaN</td>\n",
       "      <td>Glen Park</td>\n",
       "      <td>Aug</td>\n",
       "      <td>2021.0</td>\n",
       "      <td>Print</td>\n",
       "      <td>False</td>\n",
       "      <td>2021</td>\n",
       "      <td>NaN</td>\n",
       "    </tr>\n",
       "    <tr>\n",
       "      <th>450336</th>\n",
       "      <td>Digital Access Card</td>\n",
       "      <td>0</td>\n",
       "      <td>0</td>\n",
       "      <td>NaN</td>\n",
       "      <td>Bernal Heights</td>\n",
       "      <td>Nov</td>\n",
       "      <td>2023.0</td>\n",
       "      <td>Email</td>\n",
       "      <td>True</td>\n",
       "      <td>2023</td>\n",
       "      <td>NaN</td>\n",
       "    </tr>\n",
       "    <tr>\n",
       "      <th>450350</th>\n",
       "      <td>Digital Access Card</td>\n",
       "      <td>0</td>\n",
       "      <td>0</td>\n",
       "      <td>NaN</td>\n",
       "      <td>Visitacion Valley</td>\n",
       "      <td>Sep</td>\n",
       "      <td>2023.0</td>\n",
       "      <td>NaN</td>\n",
       "      <td>False</td>\n",
       "      <td>2023</td>\n",
       "      <td>NaN</td>\n",
       "    </tr>\n",
       "  </tbody>\n",
       "</table>\n",
       "<p>510 rows × 11 columns</p>\n",
       "</div>"
      ],
      "text/plain": [
       "       Patron Type Definition  Total Checkouts  Total Renewals Age Range  \\\n",
       "2010                    Adult                0               0       NaN   \n",
       "3603      Digital Access Card                0               0       NaN   \n",
       "5212                    Adult                5               4       NaN   \n",
       "5523                    Adult                0               0       NaN   \n",
       "6521                    Adult                0               0       NaN   \n",
       "...                       ...              ...             ...       ...   \n",
       "450329    Digital Access Card                0               0       NaN   \n",
       "450331    Digital Access Card                0               0       NaN   \n",
       "450333    Digital Access Card                0               0       NaN   \n",
       "450336    Digital Access Card                0               0       NaN   \n",
       "450350    Digital Access Card                0               0       NaN   \n",
       "\n",
       "       Home Library Definition Circulation Active Month  \\\n",
       "2010                      Main                      May   \n",
       "3603                      Main                      Mar   \n",
       "5212                      Main                      Mar   \n",
       "5523                      Main                      Feb   \n",
       "6521                      Main                      Mar   \n",
       "...                        ...                      ...   \n",
       "450329               Glen Park                      Aug   \n",
       "450331               Glen Park                      Oct   \n",
       "450333               Glen Park                      Aug   \n",
       "450336          Bernal Heights                      Nov   \n",
       "450350       Visitacion Valley                      Sep   \n",
       "\n",
       "        Circulation Active Year Notice Preference Definition  \\\n",
       "2010                     2021.0                        Email   \n",
       "3603                     2024.0                        Email   \n",
       "5212                     2024.0                        Email   \n",
       "5523                     2024.0                        Email   \n",
       "6521                     2024.0                        Email   \n",
       "...                         ...                          ...   \n",
       "450329                   2022.0                        Print   \n",
       "450331                   2021.0                        Print   \n",
       "450333                   2021.0                        Print   \n",
       "450336                   2023.0                        Email   \n",
       "450350                   2023.0                          NaN   \n",
       "\n",
       "        Provided Email Address  Year Patron Registered  \\\n",
       "2010                      True                    2017   \n",
       "3603                      True                    2019   \n",
       "5212                      True                    2022   \n",
       "5523                      True                    2023   \n",
       "6521                      True                    2018   \n",
       "...                        ...                     ...   \n",
       "450329                   False                    2022   \n",
       "450331                   False                    2021   \n",
       "450333                   False                    2021   \n",
       "450336                    True                    2023   \n",
       "450350                   False                    2023   \n",
       "\n",
       "       Within San Francisco County  \n",
       "2010                         False  \n",
       "3603                         False  \n",
       "5212                         False  \n",
       "5523                         False  \n",
       "6521                         False  \n",
       "...                            ...  \n",
       "450329                         NaN  \n",
       "450331                         NaN  \n",
       "450333                         NaN  \n",
       "450336                         NaN  \n",
       "450350                         NaN  \n",
       "\n",
       "[510 rows x 11 columns]"
      ]
     },
     "execution_count": 228,
     "metadata": {},
     "output_type": "execute_result"
    }
   ],
   "source": [
    "df_missing = df.loc[df['Age Range'].isna()]\n",
    "df_missing"
   ]
  },
  {
   "cell_type": "code",
   "execution_count": 229,
   "id": "d8abacca-37be-4dea-92d7-aa394015b1c7",
   "metadata": {},
   "outputs": [
    {
     "data": {
      "text/html": [
       "<div>\n",
       "<style scoped>\n",
       "    .dataframe tbody tr th:only-of-type {\n",
       "        vertical-align: middle;\n",
       "    }\n",
       "\n",
       "    .dataframe tbody tr th {\n",
       "        vertical-align: top;\n",
       "    }\n",
       "\n",
       "    .dataframe thead th {\n",
       "        text-align: right;\n",
       "    }\n",
       "</style>\n",
       "<table border=\"1\" class=\"dataframe\">\n",
       "  <thead>\n",
       "    <tr style=\"text-align: right;\">\n",
       "      <th></th>\n",
       "      <th>Patron Type Definition</th>\n",
       "      <th>Total Checkouts</th>\n",
       "      <th>Total Renewals</th>\n",
       "      <th>Age Range</th>\n",
       "      <th>Home Library Definition</th>\n",
       "      <th>Circulation Active Month</th>\n",
       "      <th>Circulation Active Year</th>\n",
       "      <th>Notice Preference Definition</th>\n",
       "      <th>Provided Email Address</th>\n",
       "      <th>Year Patron Registered</th>\n",
       "      <th>Within San Francisco County</th>\n",
       "    </tr>\n",
       "  </thead>\n",
       "  <tbody>\n",
       "    <tr>\n",
       "      <th>0</th>\n",
       "      <td>Senior</td>\n",
       "      <td>5</td>\n",
       "      <td>0</td>\n",
       "      <td>75 years and over</td>\n",
       "      <td>Main</td>\n",
       "      <td>Nov</td>\n",
       "      <td>2022.0</td>\n",
       "      <td>Email</td>\n",
       "      <td>True</td>\n",
       "      <td>2015</td>\n",
       "      <td>False</td>\n",
       "    </tr>\n",
       "    <tr>\n",
       "      <th>1</th>\n",
       "      <td>Adult</td>\n",
       "      <td>0</td>\n",
       "      <td>0</td>\n",
       "      <td>45 to 54 years</td>\n",
       "      <td>Main</td>\n",
       "      <td>Jul</td>\n",
       "      <td>2023.0</td>\n",
       "      <td>Email</td>\n",
       "      <td>True</td>\n",
       "      <td>2019</td>\n",
       "      <td>False</td>\n",
       "    </tr>\n",
       "    <tr>\n",
       "      <th>2</th>\n",
       "      <td>Adult</td>\n",
       "      <td>0</td>\n",
       "      <td>0</td>\n",
       "      <td>55 to 59 years</td>\n",
       "      <td>Western Addition</td>\n",
       "      <td>Mar</td>\n",
       "      <td>2024.0</td>\n",
       "      <td>Email</td>\n",
       "      <td>True</td>\n",
       "      <td>2022</td>\n",
       "      <td>False</td>\n",
       "    </tr>\n",
       "    <tr>\n",
       "      <th>3</th>\n",
       "      <td>Welcome</td>\n",
       "      <td>1</td>\n",
       "      <td>1</td>\n",
       "      <td>20 to 24 years</td>\n",
       "      <td>Richmond</td>\n",
       "      <td>Aug</td>\n",
       "      <td>2022.0</td>\n",
       "      <td>Email</td>\n",
       "      <td>True</td>\n",
       "      <td>2022</td>\n",
       "      <td>False</td>\n",
       "    </tr>\n",
       "    <tr>\n",
       "      <th>4</th>\n",
       "      <td>Senior</td>\n",
       "      <td>0</td>\n",
       "      <td>0</td>\n",
       "      <td>65 to 74 years</td>\n",
       "      <td>Sunset</td>\n",
       "      <td>Mar</td>\n",
       "      <td>2024.0</td>\n",
       "      <td>Print</td>\n",
       "      <td>False</td>\n",
       "      <td>2023</td>\n",
       "      <td>False</td>\n",
       "    </tr>\n",
       "    <tr>\n",
       "      <th>...</th>\n",
       "      <td>...</td>\n",
       "      <td>...</td>\n",
       "      <td>...</td>\n",
       "      <td>...</td>\n",
       "      <td>...</td>\n",
       "      <td>...</td>\n",
       "      <td>...</td>\n",
       "      <td>...</td>\n",
       "      <td>...</td>\n",
       "      <td>...</td>\n",
       "      <td>...</td>\n",
       "    </tr>\n",
       "    <tr>\n",
       "      <th>450354</th>\n",
       "      <td>Digital Access Card</td>\n",
       "      <td>0</td>\n",
       "      <td>0</td>\n",
       "      <td>35 to 44 years</td>\n",
       "      <td>Ingleside</td>\n",
       "      <td>NaN</td>\n",
       "      <td>NaN</td>\n",
       "      <td>Email</td>\n",
       "      <td>False</td>\n",
       "      <td>2023</td>\n",
       "      <td>NaN</td>\n",
       "    </tr>\n",
       "    <tr>\n",
       "      <th>450355</th>\n",
       "      <td>Digital Access Card</td>\n",
       "      <td>0</td>\n",
       "      <td>0</td>\n",
       "      <td>45 to 54 years</td>\n",
       "      <td>Ingleside</td>\n",
       "      <td>Aug</td>\n",
       "      <td>2022.0</td>\n",
       "      <td>Print</td>\n",
       "      <td>False</td>\n",
       "      <td>2022</td>\n",
       "      <td>NaN</td>\n",
       "    </tr>\n",
       "    <tr>\n",
       "      <th>450356</th>\n",
       "      <td>Digital Access Card</td>\n",
       "      <td>0</td>\n",
       "      <td>0</td>\n",
       "      <td>25 to 34 years</td>\n",
       "      <td>Ingleside</td>\n",
       "      <td>Aug</td>\n",
       "      <td>2022.0</td>\n",
       "      <td>Print</td>\n",
       "      <td>False</td>\n",
       "      <td>2022</td>\n",
       "      <td>NaN</td>\n",
       "    </tr>\n",
       "    <tr>\n",
       "      <th>450357</th>\n",
       "      <td>Digital Access Card</td>\n",
       "      <td>0</td>\n",
       "      <td>0</td>\n",
       "      <td>35 to 44 years</td>\n",
       "      <td>Ingleside</td>\n",
       "      <td>Apr</td>\n",
       "      <td>2022.0</td>\n",
       "      <td>Print</td>\n",
       "      <td>False</td>\n",
       "      <td>2022</td>\n",
       "      <td>NaN</td>\n",
       "    </tr>\n",
       "    <tr>\n",
       "      <th>450358</th>\n",
       "      <td>Digital Access Card</td>\n",
       "      <td>0</td>\n",
       "      <td>0</td>\n",
       "      <td>65 to 74 years</td>\n",
       "      <td>Bayview</td>\n",
       "      <td>Apr</td>\n",
       "      <td>2023.0</td>\n",
       "      <td>Email</td>\n",
       "      <td>False</td>\n",
       "      <td>2023</td>\n",
       "      <td>NaN</td>\n",
       "    </tr>\n",
       "  </tbody>\n",
       "</table>\n",
       "<p>450359 rows × 11 columns</p>\n",
       "</div>"
      ],
      "text/plain": [
       "       Patron Type Definition  Total Checkouts  Total Renewals  \\\n",
       "0                      Senior                5               0   \n",
       "1                       Adult                0               0   \n",
       "2                       Adult                0               0   \n",
       "3                     Welcome                1               1   \n",
       "4                      Senior                0               0   \n",
       "...                       ...              ...             ...   \n",
       "450354    Digital Access Card                0               0   \n",
       "450355    Digital Access Card                0               0   \n",
       "450356    Digital Access Card                0               0   \n",
       "450357    Digital Access Card                0               0   \n",
       "450358    Digital Access Card                0               0   \n",
       "\n",
       "                Age Range Home Library Definition Circulation Active Month  \\\n",
       "0       75 years and over                    Main                      Nov   \n",
       "1          45 to 54 years                    Main                      Jul   \n",
       "2          55 to 59 years        Western Addition                      Mar   \n",
       "3          20 to 24 years                Richmond                      Aug   \n",
       "4          65 to 74 years                  Sunset                      Mar   \n",
       "...                   ...                     ...                      ...   \n",
       "450354     35 to 44 years               Ingleside                      NaN   \n",
       "450355     45 to 54 years               Ingleside                      Aug   \n",
       "450356     25 to 34 years               Ingleside                      Aug   \n",
       "450357     35 to 44 years               Ingleside                      Apr   \n",
       "450358     65 to 74 years                 Bayview                      Apr   \n",
       "\n",
       "        Circulation Active Year Notice Preference Definition  \\\n",
       "0                        2022.0                        Email   \n",
       "1                        2023.0                        Email   \n",
       "2                        2024.0                        Email   \n",
       "3                        2022.0                        Email   \n",
       "4                        2024.0                        Print   \n",
       "...                         ...                          ...   \n",
       "450354                      NaN                        Email   \n",
       "450355                   2022.0                        Print   \n",
       "450356                   2022.0                        Print   \n",
       "450357                   2022.0                        Print   \n",
       "450358                   2023.0                        Email   \n",
       "\n",
       "        Provided Email Address  Year Patron Registered  \\\n",
       "0                         True                    2015   \n",
       "1                         True                    2019   \n",
       "2                         True                    2022   \n",
       "3                         True                    2022   \n",
       "4                        False                    2023   \n",
       "...                        ...                     ...   \n",
       "450354                   False                    2023   \n",
       "450355                   False                    2022   \n",
       "450356                   False                    2022   \n",
       "450357                   False                    2022   \n",
       "450358                   False                    2023   \n",
       "\n",
       "       Within San Francisco County  \n",
       "0                            False  \n",
       "1                            False  \n",
       "2                            False  \n",
       "3                            False  \n",
       "4                            False  \n",
       "...                            ...  \n",
       "450354                         NaN  \n",
       "450355                         NaN  \n",
       "450356                         NaN  \n",
       "450357                         NaN  \n",
       "450358                         NaN  \n",
       "\n",
       "[450359 rows x 11 columns]"
      ]
     },
     "execution_count": 229,
     "metadata": {},
     "output_type": "execute_result"
    }
   ],
   "source": [
    "df['Age Range'] = df['Age Range'].fillna(df['Age Range'].mode()[0]) \n",
    "df"
   ]
  },
  {
   "cell_type": "code",
   "execution_count": 230,
   "id": "f12941be-69ee-4260-934a-d14b345d3fb5",
   "metadata": {},
   "outputs": [
    {
     "data": {
      "text/plain": [
       "Age Range\n",
       "25 to 34 years       0.212693\n",
       "35 to 44 years       0.190224\n",
       "10 to 19 years       0.150453\n",
       "45 to 54 years       0.110623\n",
       "0 to 9 years         0.073675\n",
       "65 to 74 years       0.072065\n",
       "20 to 24 years       0.060274\n",
       "75 years and over    0.046010\n",
       "55 to 59 years       0.043821\n",
       "60 to 64 years       0.040164\n",
       "Name: proportion, dtype: float64"
      ]
     },
     "execution_count": 230,
     "metadata": {},
     "output_type": "execute_result"
    }
   ],
   "source": [
    "df['Age Range'].value_counts(normalize=True)"
   ]
  },
  {
   "cell_type": "code",
   "execution_count": 231,
   "id": "0c70c80c-f05c-4ee1-a532-9847143d55d2",
   "metadata": {},
   "outputs": [],
   "source": [
    "# Die fehlenden Werte wurden durch den Modus (häufigsten Wert ersetzt) und nun beträgt der Prozentanteil der 25-34-jährigen 21,27%. "
   ]
  },
  {
   "cell_type": "code",
   "execution_count": 232,
   "id": "e7d47390-79cf-4b78-b5b9-338834c67b50",
   "metadata": {},
   "outputs": [],
   "source": [
    "# Denkst Du, es handelt sich dabei um eine gute Methode, fehlende Werte zu ersetzen? Welche anderen Strategien fallen Dir ein?"
   ]
  },
  {
   "cell_type": "markdown",
   "id": "cb839117-12eb-4af5-b121-57a46f62474c",
   "metadata": {},
   "source": [
    "Die Age Range wird etwas dadurch verzerrt, dass die fehlenden Werte alle durch den Modus ersetzt werden. Ich würde es in diesem Fall für sinnvoller halten die fehlenden Werte durch den Median oder das arithmetische Mittel zu ersetzen."
   ]
  },
  {
   "cell_type": "markdown",
   "id": "b9181eab-7bd8-4600-8afd-218ae147b190",
   "metadata": {},
   "source": [
    "# Aufgabe 3.2 Mittelwert und Median"
   ]
  },
  {
   "cell_type": "code",
   "execution_count": 235,
   "id": "0b2ecb03-e977-4ad3-b0ba-1fce6d2b4461",
   "metadata": {},
   "outputs": [
    {
     "data": {
      "text/plain": [
       "155.218052709061"
      ]
     },
     "execution_count": 235,
     "metadata": {},
     "output_type": "execute_result"
    }
   ],
   "source": [
    "df['Total Checkouts'].mean()"
   ]
  },
  {
   "cell_type": "code",
   "execution_count": 236,
   "id": "8efe2c24-3abb-4a5f-8850-146e0dd2c565",
   "metadata": {},
   "outputs": [
    {
     "data": {
      "text/plain": [
       "7.0"
      ]
     },
     "execution_count": 236,
     "metadata": {},
     "output_type": "execute_result"
    }
   ],
   "source": [
    "df['Total Checkouts'].median()"
   ]
  },
  {
   "cell_type": "markdown",
   "id": "ba0fd5a4-2de2-4fe9-be62-19a9df855363",
   "metadata": {},
   "source": [
    "Die beiden Werte sind so unterschiedlich, weil es einige wenige Bibliotheksnutzerinnen gibt, die sehr viele Bücher ausleihen. Dadurch wird das arithmetische Mittel in die Höhe getrieben. Der Median ist dagegen immun gegen Ausreißerinnen nach oben oder unten."
   ]
  },
  {
   "cell_type": "code",
   "execution_count": 238,
   "id": "f1fc779c-3822-4d86-8b60-209ab0ad5828",
   "metadata": {},
   "outputs": [],
   "source": [
    "# Was ziehst Du daraus für Schlüsse für weitere statistische Analysen und Reports?"
   ]
  },
  {
   "cell_type": "markdown",
   "id": "2949b17b-537b-40e0-99c6-52d04a3e010a",
   "metadata": {},
   "source": [
    "Es sollten immer beide Werte betrachtet werden, um identifizieren zu können, ob das arithmetische Mittel durch Ausreißerinnen in die Höhe getrieben wird. "
   ]
  },
  {
   "cell_type": "markdown",
   "id": "ad5c6038-a139-4dbe-bee2-d48c72750630",
   "metadata": {},
   "source": [
    "# Aufgabe 3.4 Varianz"
   ]
  },
  {
   "cell_type": "code",
   "execution_count": 241,
   "id": "1a64aba8-5297-4029-a9bf-79b8ce84b49a",
   "metadata": {},
   "outputs": [
    {
     "data": {
      "text/plain": [
       "276931.23963427445"
      ]
     },
     "execution_count": 241,
     "metadata": {},
     "output_type": "execute_result"
    }
   ],
   "source": [
    "df['Total Checkouts'].var()"
   ]
  },
  {
   "cell_type": "code",
   "execution_count": 242,
   "id": "690a482c-48a1-41c4-96c4-f1f44a218882",
   "metadata": {},
   "outputs": [
    {
     "data": {
      "text/plain": [
       "526.2425672959899"
      ]
     },
     "execution_count": 242,
     "metadata": {},
     "output_type": "execute_result"
    }
   ],
   "source": [
    "df['Total Checkouts'].std()"
   ]
  },
  {
   "cell_type": "code",
   "execution_count": 243,
   "id": "160bdb1e-4b80-49a9-80f4-336f527281f6",
   "metadata": {},
   "outputs": [],
   "source": [
    "# Welche Variable streut mehr: 'Total Checkouts' oder 'Total Renewals'? \n",
    "# Vergleiche die Standardabweichungen und den Variationskoeffizienten miteinander."
   ]
  },
  {
   "cell_type": "code",
   "execution_count": 244,
   "id": "308d545e-9726-425c-9c3e-ae2f4dcbe4f5",
   "metadata": {},
   "outputs": [
    {
     "data": {
      "text/plain": [
       "526.2425672959899"
      ]
     },
     "execution_count": 244,
     "metadata": {},
     "output_type": "execute_result"
    }
   ],
   "source": [
    "df['Total Checkouts'].std()"
   ]
  },
  {
   "cell_type": "code",
   "execution_count": 245,
   "id": "7f7bfec1-57da-4950-b333-89511606003b",
   "metadata": {},
   "outputs": [
    {
     "data": {
      "text/plain": [
       "305.91523273880455"
      ]
     },
     "execution_count": 245,
     "metadata": {},
     "output_type": "execute_result"
    }
   ],
   "source": [
    "df['Total Renewals'].std()"
   ]
  },
  {
   "cell_type": "code",
   "execution_count": 246,
   "id": "a58bdb57-07df-4e52-8a72-0ffd1e808d4b",
   "metadata": {},
   "outputs": [
    {
     "data": {
      "text/plain": [
       "3.390343829930486"
      ]
     },
     "execution_count": 246,
     "metadata": {},
     "output_type": "execute_result"
    }
   ],
   "source": [
    "cv_total_checkouts = df['Total Checkouts'].std()/df['Total Checkouts'].mean()\n",
    "cv_total_checkouts"
   ]
  },
  {
   "cell_type": "code",
   "execution_count": 247,
   "id": "c87238bd-3298-4f23-bae7-727f8241a298",
   "metadata": {},
   "outputs": [
    {
     "data": {
      "text/plain": [
       "3.873868313954441"
      ]
     },
     "execution_count": 247,
     "metadata": {},
     "output_type": "execute_result"
    }
   ],
   "source": [
    "cv_total_renewals = df['Total Renewals'].std()/df['Total Renewals'].mean()\n",
    "cv_total_renewals"
   ]
  },
  {
   "cell_type": "markdown",
   "id": "35693cdd-e9d3-4b09-b10d-541150d5c2dd",
   "metadata": {},
   "source": [
    "Es wurde für beide Variablen die Standardabweichung berechnet. Da diese nur schwierig vergleichbar ist, wurde für beide Werte der Variationskoeffizient berechnet, indem die Standardabweichung durch das arithmetische Mittel geteilt wurde. Dadurch sind die Werte vergleichbar: Die Variable Total Renewals hat eine höhere Varianz."
   ]
  },
  {
   "cell_type": "markdown",
   "id": "2966812e-71e3-48d3-bb1c-deb2134100f0",
   "metadata": {},
   "source": [
    "# Aufgabe 3.6 Symmetrie und Schiefe"
   ]
  },
  {
   "cell_type": "code",
   "execution_count": 250,
   "id": "09f54cd5-f5d1-4d5f-96d8-ca344ffa8a02",
   "metadata": {},
   "outputs": [],
   "source": [
    "# Schau Dir die verschiedenen Histogramme im Bild an und charakterisiere jede einzelne Verteilung anhand von Schiefe, Symmetrie und Modus"
   ]
  },
  {
   "cell_type": "markdown",
   "id": "e4bcf529-8df9-4248-8a27-d38b92288f5f",
   "metadata": {},
   "source": [
    "1) Die Verteilung ist symmetrisch, da der Median und das arithmetische Mittel gleich sind. Dadurch besitzt sie auch keine Schiefe. Die Verteilung ist bimodal, besitzt also zwei Modi (links außen und rechts außen)\n",
    "2) Die Verteilung ist nicht symmetrisch, sondern rechtsschief. Die Verteilung ist unimodal mit einem Modus rechts außen.\n",
    "3) Die Verteilung ist nicht symmetrisch, sondern rechtsschief. Die Verteilung ist unimodal mit einem Modus rechts außen.\n",
    "4) Die Verteilung ist nicht symmetrisch, sondern linksschief. Die Verteilung ist unimodal mit einem Modus links außen.\n",
    "5) Die Verteilung ist symmetrisch, da der Median und das arithmetische Mittel gleich sind. Dadurch besitzt sie keine Schiefe. Die Verteilung scheint unimodel zu sein, da es einen Wert gibt, der etwas höher zu sein scheint (nicht ganz genau erkenntlich) als alle anderen.\n",
    "6) Die Verteilung ist nicht symmetrisch, sondern rechtsschief. Die Verteilung ist unimodal mit einem Modus rechts außen.\n",
    "7) Die Verteilung ist nicht symmetrisch, sondern linksschief. Die Verteilung ist unimodal mit einem Modus links außen.\n",
    "8) Die Verteilung ist nicht symmetrisch, sondern linksschief. Die Verteilung ist unimodal mit einem Modus links außen.\n",
    "9) Die Verteilung ist normalverteilt. Sie ist symmetrisch und besitzt dadurch keine Schiefe. Sie ist unimodul mit einem Modus, der dem Mittelwert und Median entspricht."
   ]
  },
  {
   "cell_type": "markdown",
   "id": "961b9b19-99ac-41f5-bae3-d655f0282a4a",
   "metadata": {},
   "source": [
    "# Exkurs Korrelation"
   ]
  },
  {
   "cell_type": "code",
   "execution_count": 253,
   "id": "bb9c65f3-bf62-432c-8b62-e129a5afe895",
   "metadata": {},
   "outputs": [
    {
     "data": {
      "text/plain": [
       "0.6421628513121922"
      ]
     },
     "execution_count": 253,
     "metadata": {},
     "output_type": "execute_result"
    }
   ],
   "source": [
    "df['Total Checkouts'].corr(df['Total Renewals'])"
   ]
  },
  {
   "cell_type": "code",
   "execution_count": 254,
   "id": "788a7ea9-ce0f-4a7e-83c5-b9514ba71325",
   "metadata": {},
   "outputs": [],
   "source": [
    "# Es besteht eine positive Korrelation zwischen den Ausleihen und den Verlängerungen. \n",
    "# Heißt: Kunden, die viel ausleihen, verlängern auch mehr als andere Kunden."
   ]
  },
  {
   "cell_type": "markdown",
   "id": "048f0ed8-b4a6-4082-b7f5-eef51a4c58b3",
   "metadata": {},
   "source": [
    "# 3.9 Balkendiagramme bei Fox New"
   ]
  },
  {
   "cell_type": "markdown",
   "id": "184713bd-3aa7-4b4d-b3b3-5c2967e28b7e",
   "metadata": {},
   "source": [
    "Was fällt Dir an den folgenden Diagrammen von FoxNews auf?\n",
    "Was würdest Du anders machen?\n",
    "Welche Botschaft wollten die “Designer” vermutlich vermitteln? Passt die Botschaft mit den Daten zusammen?"
   ]
  },
  {
   "cell_type": "markdown",
   "id": "2107be61-e5be-4691-ad78-92b72a2acd71",
   "metadata": {},
   "source": [
    "Die Botschaft passt nicht mit den Daten zusammen. Das Diagramm beginnt nicht bei 0 und dadurch sieht der Unterschied viel dramatischer aus als er eigentlich ist. Der Diagramm sollte bei 0 beginnen, um die Differenz besser wiederzugeben. "
   ]
  },
  {
   "cell_type": "markdown",
   "id": "0583aa59-3f69-467f-bd1b-059a0c77e0c3",
   "metadata": {},
   "source": [
    "# Tutorial"
   ]
  },
  {
   "cell_type": "code",
   "execution_count": 259,
   "id": "5d9dabec-9248-4768-88f3-6ea319bfebf0",
   "metadata": {},
   "outputs": [
    {
     "data": {
      "text/html": [
       "<div>\n",
       "<style scoped>\n",
       "    .dataframe tbody tr th:only-of-type {\n",
       "        vertical-align: middle;\n",
       "    }\n",
       "\n",
       "    .dataframe tbody tr th {\n",
       "        vertical-align: top;\n",
       "    }\n",
       "\n",
       "    .dataframe thead th {\n",
       "        text-align: right;\n",
       "    }\n",
       "</style>\n",
       "<table border=\"1\" class=\"dataframe\">\n",
       "  <thead>\n",
       "    <tr style=\"text-align: right;\">\n",
       "      <th></th>\n",
       "      <th>Patron Type Definition</th>\n",
       "      <th>Total Checkouts</th>\n",
       "      <th>Total Renewals</th>\n",
       "      <th>Age Range</th>\n",
       "      <th>Home Library Definition</th>\n",
       "      <th>Circulation Active Month</th>\n",
       "      <th>Circulation Active Year</th>\n",
       "      <th>Notice Preference Definition</th>\n",
       "      <th>Provided Email Address</th>\n",
       "      <th>Year Patron Registered</th>\n",
       "      <th>Within San Francisco County</th>\n",
       "    </tr>\n",
       "  </thead>\n",
       "  <tbody>\n",
       "    <tr>\n",
       "      <th>11788</th>\n",
       "      <td>Adult</td>\n",
       "      <td>0</td>\n",
       "      <td>0</td>\n",
       "      <td>25 to 34 years</td>\n",
       "      <td>Marina</td>\n",
       "      <td>Mar</td>\n",
       "      <td>2024.0</td>\n",
       "      <td>Email</td>\n",
       "      <td>True</td>\n",
       "      <td>2023</td>\n",
       "      <td>False</td>\n",
       "    </tr>\n",
       "    <tr>\n",
       "      <th>127426</th>\n",
       "      <td>Adult</td>\n",
       "      <td>0</td>\n",
       "      <td>0</td>\n",
       "      <td>25 to 34 years</td>\n",
       "      <td>Main</td>\n",
       "      <td>NaN</td>\n",
       "      <td>NaN</td>\n",
       "      <td>Email</td>\n",
       "      <td>True</td>\n",
       "      <td>2023</td>\n",
       "      <td>True</td>\n",
       "    </tr>\n",
       "    <tr>\n",
       "      <th>346638</th>\n",
       "      <td>Juvenile</td>\n",
       "      <td>0</td>\n",
       "      <td>0</td>\n",
       "      <td>0 to 9 years</td>\n",
       "      <td>Main</td>\n",
       "      <td>NaN</td>\n",
       "      <td>NaN</td>\n",
       "      <td>Email</td>\n",
       "      <td>True</td>\n",
       "      <td>2020</td>\n",
       "      <td>True</td>\n",
       "    </tr>\n",
       "    <tr>\n",
       "      <th>371332</th>\n",
       "      <td>Juvenile</td>\n",
       "      <td>246</td>\n",
       "      <td>60</td>\n",
       "      <td>0 to 9 years</td>\n",
       "      <td>Bernal Heights</td>\n",
       "      <td>Mar</td>\n",
       "      <td>2024.0</td>\n",
       "      <td>Email</td>\n",
       "      <td>True</td>\n",
       "      <td>2015</td>\n",
       "      <td>True</td>\n",
       "    </tr>\n",
       "    <tr>\n",
       "      <th>418782</th>\n",
       "      <td>Teen</td>\n",
       "      <td>969</td>\n",
       "      <td>1370</td>\n",
       "      <td>10 to 19 years</td>\n",
       "      <td>Park</td>\n",
       "      <td>Mar</td>\n",
       "      <td>2024.0</td>\n",
       "      <td>Email</td>\n",
       "      <td>True</td>\n",
       "      <td>2012</td>\n",
       "      <td>True</td>\n",
       "    </tr>\n",
       "    <tr>\n",
       "      <th>...</th>\n",
       "      <td>...</td>\n",
       "      <td>...</td>\n",
       "      <td>...</td>\n",
       "      <td>...</td>\n",
       "      <td>...</td>\n",
       "      <td>...</td>\n",
       "      <td>...</td>\n",
       "      <td>...</td>\n",
       "      <td>...</td>\n",
       "      <td>...</td>\n",
       "      <td>...</td>\n",
       "    </tr>\n",
       "    <tr>\n",
       "      <th>311566</th>\n",
       "      <td>Adult</td>\n",
       "      <td>13</td>\n",
       "      <td>5</td>\n",
       "      <td>35 to 44 years</td>\n",
       "      <td>Park</td>\n",
       "      <td>Sep</td>\n",
       "      <td>2021.0</td>\n",
       "      <td>Email</td>\n",
       "      <td>True</td>\n",
       "      <td>2015</td>\n",
       "      <td>True</td>\n",
       "    </tr>\n",
       "    <tr>\n",
       "      <th>297156</th>\n",
       "      <td>Adult</td>\n",
       "      <td>5</td>\n",
       "      <td>9</td>\n",
       "      <td>75 years and over</td>\n",
       "      <td>Ortega</td>\n",
       "      <td>Mar</td>\n",
       "      <td>2024.0</td>\n",
       "      <td>Email</td>\n",
       "      <td>True</td>\n",
       "      <td>2023</td>\n",
       "      <td>True</td>\n",
       "    </tr>\n",
       "    <tr>\n",
       "      <th>12322</th>\n",
       "      <td>Teacher Card</td>\n",
       "      <td>44</td>\n",
       "      <td>7</td>\n",
       "      <td>25 to 34 years</td>\n",
       "      <td>Main</td>\n",
       "      <td>Oct</td>\n",
       "      <td>2021.0</td>\n",
       "      <td>Email</td>\n",
       "      <td>True</td>\n",
       "      <td>2018</td>\n",
       "      <td>False</td>\n",
       "    </tr>\n",
       "    <tr>\n",
       "      <th>197485</th>\n",
       "      <td>Adult</td>\n",
       "      <td>0</td>\n",
       "      <td>0</td>\n",
       "      <td>25 to 34 years</td>\n",
       "      <td>North Beach</td>\n",
       "      <td>Mar</td>\n",
       "      <td>2024.0</td>\n",
       "      <td>Email</td>\n",
       "      <td>True</td>\n",
       "      <td>2022</td>\n",
       "      <td>True</td>\n",
       "    </tr>\n",
       "    <tr>\n",
       "      <th>26013</th>\n",
       "      <td>Welcome</td>\n",
       "      <td>1</td>\n",
       "      <td>3</td>\n",
       "      <td>45 to 54 years</td>\n",
       "      <td>Park</td>\n",
       "      <td>Oct</td>\n",
       "      <td>2021.0</td>\n",
       "      <td>Email</td>\n",
       "      <td>True</td>\n",
       "      <td>2021</td>\n",
       "      <td>False</td>\n",
       "    </tr>\n",
       "  </tbody>\n",
       "</table>\n",
       "<p>1000 rows × 11 columns</p>\n",
       "</div>"
      ],
      "text/plain": [
       "       Patron Type Definition  Total Checkouts  Total Renewals  \\\n",
       "11788                   Adult                0               0   \n",
       "127426                  Adult                0               0   \n",
       "346638               Juvenile                0               0   \n",
       "371332               Juvenile              246              60   \n",
       "418782                   Teen              969            1370   \n",
       "...                       ...              ...             ...   \n",
       "311566                  Adult               13               5   \n",
       "297156                  Adult                5               9   \n",
       "12322            Teacher Card               44               7   \n",
       "197485                  Adult                0               0   \n",
       "26013                 Welcome                1               3   \n",
       "\n",
       "                Age Range Home Library Definition Circulation Active Month  \\\n",
       "11788      25 to 34 years                  Marina                      Mar   \n",
       "127426     25 to 34 years                    Main                      NaN   \n",
       "346638       0 to 9 years                    Main                      NaN   \n",
       "371332       0 to 9 years          Bernal Heights                      Mar   \n",
       "418782     10 to 19 years                    Park                      Mar   \n",
       "...                   ...                     ...                      ...   \n",
       "311566     35 to 44 years                    Park                      Sep   \n",
       "297156  75 years and over                  Ortega                      Mar   \n",
       "12322      25 to 34 years                    Main                      Oct   \n",
       "197485     25 to 34 years             North Beach                      Mar   \n",
       "26013      45 to 54 years                    Park                      Oct   \n",
       "\n",
       "        Circulation Active Year Notice Preference Definition  \\\n",
       "11788                    2024.0                        Email   \n",
       "127426                      NaN                        Email   \n",
       "346638                      NaN                        Email   \n",
       "371332                   2024.0                        Email   \n",
       "418782                   2024.0                        Email   \n",
       "...                         ...                          ...   \n",
       "311566                   2021.0                        Email   \n",
       "297156                   2024.0                        Email   \n",
       "12322                    2021.0                        Email   \n",
       "197485                   2024.0                        Email   \n",
       "26013                    2021.0                        Email   \n",
       "\n",
       "        Provided Email Address  Year Patron Registered  \\\n",
       "11788                     True                    2023   \n",
       "127426                    True                    2023   \n",
       "346638                    True                    2020   \n",
       "371332                    True                    2015   \n",
       "418782                    True                    2012   \n",
       "...                        ...                     ...   \n",
       "311566                    True                    2015   \n",
       "297156                    True                    2023   \n",
       "12322                     True                    2018   \n",
       "197485                    True                    2022   \n",
       "26013                     True                    2021   \n",
       "\n",
       "       Within San Francisco County  \n",
       "11788                        False  \n",
       "127426                        True  \n",
       "346638                        True  \n",
       "371332                        True  \n",
       "418782                        True  \n",
       "...                            ...  \n",
       "311566                        True  \n",
       "297156                        True  \n",
       "12322                        False  \n",
       "197485                        True  \n",
       "26013                        False  \n",
       "\n",
       "[1000 rows x 11 columns]"
      ]
     },
     "execution_count": 259,
     "metadata": {},
     "output_type": "execute_result"
    }
   ],
   "source": [
    "# use sample to generate a random subsample\n",
    "df = pd.read_csv(\"../data/Library_Usage.csv\",low_memory=False,na_values=\"Null\").sample(n=1000)\n",
    "df"
   ]
  },
  {
   "cell_type": "code",
   "execution_count": 260,
   "id": "8d366b4d-9c75-41af-a05c-6609fced8891",
   "metadata": {},
   "outputs": [
    {
     "data": {
      "text/plain": [
       "<seaborn.axisgrid.FacetGrid at 0x77a16841dcd0>"
      ]
     },
     "execution_count": 260,
     "metadata": {},
     "output_type": "execute_result"
    }
   ],
   "source": [
    "# Der erste Plot\n",
    "sns.relplot(x='Total Checkouts', y='Total Renewals', data=df,\n",
    "            height=5, aspect=3)"
   ]
  },
  {
   "cell_type": "code",
   "execution_count": 261,
   "id": "0e7b6502-f24a-480b-a6c6-8938aabb8d6f",
   "metadata": {},
   "outputs": [],
   "source": [
    "# Plot als Bilddatei abspeichern\n",
    "plt.savefig('../tutorial.png', dpi=150)"
   ]
  },
  {
   "cell_type": "code",
   "execution_count": 300,
   "id": "56e83523-5dc2-4fb7-8845-1bdb94bb9c6b",
   "metadata": {},
   "outputs": [
    {
     "data": {
      "text/plain": [
       "<seaborn.axisgrid.FacetGrid at 0x77a168475040>"
      ]
     },
     "execution_count": 300,
     "metadata": {},
     "output_type": "execute_result"
    }
   ],
   "source": [
    "# Farbei und Größe anpassen\n",
    "sns.relplot(x='Total Checkouts', y='Total Renewals', \n",
    "                hue='Provided Email Address', style='Within San Francisco County', \n",
    "                size='Year Patron Registered', data=df)"
   ]
  },
  {
   "cell_type": "code",
   "execution_count": 302,
   "id": "7a79c877-5c46-4dfb-8d11-183e8da6bda7",
   "metadata": {},
   "outputs": [
    {
     "data": {
      "text/plain": [
       "<seaborn.axisgrid.FacetGrid at 0x77a168365ee0>"
      ]
     },
     "execution_count": 302,
     "metadata": {},
     "output_type": "execute_result"
    }
   ],
   "source": [
    "# Anordnung von Zeilen und Spalten\n",
    "sns.relplot(x='Total Checkouts', y='Total Renewals', \n",
    "            size='Year Patron Registered',\n",
    "            row='Provided Email Address', col='Within San Francisco County', data=df)"
   ]
  },
  {
   "cell_type": "code",
   "execution_count": 304,
   "id": "b4c2bc4e-e16c-45d4-b52b-1304ca4ae929",
   "metadata": {},
   "outputs": [
    {
     "data": {
      "text/plain": [
       "<seaborn.axisgrid.FacetGrid at 0x77a167a688c0>"
      ]
     },
     "execution_count": 304,
     "metadata": {},
     "output_type": "execute_result"
    }
   ],
   "source": [
    "# Auswahl einer Farbpalette\n",
    "sns.relplot(x='Total Checkouts', y='Total Renewals', \n",
    "            hue='Provided Email Address', \n",
    "            col='Within San Francisco County',\n",
    "            palette=sns.color_palette('Accent', 2), \n",
    "            data=df)"
   ]
  },
  {
   "cell_type": "code",
   "execution_count": 306,
   "id": "d4abd343-5fc7-4bf2-86a6-d2145f909258",
   "metadata": {},
   "outputs": [
    {
     "data": {
      "text/plain": [
       "<seaborn.axisgrid.FacetGrid at 0x77a168373830>"
      ]
     },
     "execution_count": 306,
     "metadata": {},
     "output_type": "execute_result"
    }
   ],
   "source": [
    "# Balkendiagramme\n",
    "sns.catplot(y='Year Patron Registered',\n",
    "            data=df, kind='count', color=\"steelblue\")"
   ]
  },
  {
   "cell_type": "code",
   "execution_count": 311,
   "id": "46138714-10bc-4e63-a1cb-6a80143e2fbb",
   "metadata": {},
   "outputs": [
    {
     "data": {
      "text/plain": [
       "<seaborn.axisgrid.FacetGrid at 0x77a16744be60>"
      ]
     },
     "execution_count": 311,
     "metadata": {},
     "output_type": "execute_result"
    }
   ],
   "source": [
    "sns.catplot(y='Age Range', hue='Provided Email Address', \n",
    "            data=df, kind='count')"
   ]
  },
  {
   "cell_type": "code",
   "execution_count": 310,
   "id": "ba87c3d7-9b96-412b-8eb3-ae932bddb690",
   "metadata": {},
   "outputs": [
    {
     "data": {
      "text/plain": [
       "<seaborn.axisgrid.FacetGrid at 0x77a167a8bb30>"
      ]
     },
     "execution_count": 310,
     "metadata": {},
     "output_type": "execute_result"
    }
   ],
   "source": [
    "sns.catplot(x='Patron Type Definition', \n",
    "            data=df, kind='count', \n",
    "            col='Year Patron Registered', col_wrap=4)"
   ]
  },
  {
   "cell_type": "code",
   "execution_count": 314,
   "id": "b76fbd3d-7203-4892-aecb-fb060f14c418",
   "metadata": {},
   "outputs": [
    {
     "name": "stderr",
     "output_type": "stream",
     "text": [
      "/tmp/ipykernel_11240/224025452.py:2: UserWarning: \n",
      "\n",
      "`distplot` is a deprecated function and will be removed in seaborn v0.14.0.\n",
      "\n",
      "Please adapt your code to use either `displot` (a figure-level function with\n",
      "similar flexibility) or `histplot` (an axes-level function for histograms).\n",
      "\n",
      "For a guide to updating your code to use the new functions, please see\n",
      "https://gist.github.com/mwaskom/de44147ed2974457ad6372750bbe5751\n",
      "\n",
      "  sns.distplot(df['Total Renewals'], kde=False)\n"
     ]
    },
    {
     "data": {
      "text/plain": [
       "<Axes: xlabel='Total Renewals', ylabel='Age Range'>"
      ]
     },
     "execution_count": 314,
     "metadata": {},
     "output_type": "execute_result"
    }
   ],
   "source": [
    "# Histogram\n",
    "sns.distplot(df['Total Renewals'], kde=False)"
   ]
  },
  {
   "cell_type": "code",
   "execution_count": 316,
   "id": "506684d8-df33-4324-95b2-01de7794196b",
   "metadata": {},
   "outputs": [
    {
     "name": "stderr",
     "output_type": "stream",
     "text": [
      "/tmp/ipykernel_11240/3265830921.py:2: UserWarning: \n",
      "\n",
      "`distplot` is a deprecated function and will be removed in seaborn v0.14.0.\n",
      "\n",
      "Please adapt your code to use either `displot` (a figure-level function with\n",
      "similar flexibility) or `histplot` (an axes-level function for histograms).\n",
      "\n",
      "For a guide to updating your code to use the new functions, please see\n",
      "https://gist.github.com/mwaskom/de44147ed2974457ad6372750bbe5751\n",
      "\n",
      "  sns.distplot(df['Total Renewals'], kde=True)\n"
     ]
    },
    {
     "data": {
      "text/plain": [
       "<Axes: xlabel='Total Renewals', ylabel='Age Range'>"
      ]
     },
     "execution_count": 316,
     "metadata": {},
     "output_type": "execute_result"
    }
   ],
   "source": [
    "# With density estimation\n",
    "sns.distplot(df['Total Renewals'], kde=True)"
   ]
  },
  {
   "cell_type": "code",
   "execution_count": 320,
   "id": "772523aa-1912-49b4-89e9-7cf15980f69c",
   "metadata": {},
   "outputs": [
    {
     "name": "stderr",
     "output_type": "stream",
     "text": [
      "/home/katja/anaconda3/lib/python3.12/site-packages/seaborn/categorical.py:3399: UserWarning: 29.0% of the points cannot be placed; you may want to decrease the size of the markers or use stripplot.\n",
      "  warnings.warn(msg, UserWarning)\n",
      "/home/katja/anaconda3/lib/python3.12/site-packages/seaborn/categorical.py:3399: UserWarning: 14.3% of the points cannot be placed; you may want to decrease the size of the markers or use stripplot.\n",
      "  warnings.warn(msg, UserWarning)\n",
      "/home/katja/anaconda3/lib/python3.12/site-packages/seaborn/categorical.py:3399: UserWarning: 47.1% of the points cannot be placed; you may want to decrease the size of the markers or use stripplot.\n",
      "  warnings.warn(msg, UserWarning)\n",
      "/home/katja/anaconda3/lib/python3.12/site-packages/seaborn/categorical.py:3399: UserWarning: 17.4% of the points cannot be placed; you may want to decrease the size of the markers or use stripplot.\n",
      "  warnings.warn(msg, UserWarning)\n",
      "/home/katja/anaconda3/lib/python3.12/site-packages/seaborn/categorical.py:3399: UserWarning: 28.6% of the points cannot be placed; you may want to decrease the size of the markers or use stripplot.\n",
      "  warnings.warn(msg, UserWarning)\n",
      "/home/katja/anaconda3/lib/python3.12/site-packages/seaborn/categorical.py:3399: UserWarning: 44.4% of the points cannot be placed; you may want to decrease the size of the markers or use stripplot.\n",
      "  warnings.warn(msg, UserWarning)\n",
      "/home/katja/anaconda3/lib/python3.12/site-packages/seaborn/categorical.py:3399: UserWarning: 30.8% of the points cannot be placed; you may want to decrease the size of the markers or use stripplot.\n",
      "  warnings.warn(msg, UserWarning)\n",
      "/home/katja/anaconda3/lib/python3.12/site-packages/seaborn/categorical.py:3399: UserWarning: 57.4% of the points cannot be placed; you may want to decrease the size of the markers or use stripplot.\n",
      "  warnings.warn(msg, UserWarning)\n",
      "/home/katja/anaconda3/lib/python3.12/site-packages/seaborn/categorical.py:3399: UserWarning: 63.0% of the points cannot be placed; you may want to decrease the size of the markers or use stripplot.\n",
      "  warnings.warn(msg, UserWarning)\n",
      "/home/katja/anaconda3/lib/python3.12/site-packages/seaborn/categorical.py:3399: UserWarning: 65.3% of the points cannot be placed; you may want to decrease the size of the markers or use stripplot.\n",
      "  warnings.warn(msg, UserWarning)\n",
      "/home/katja/anaconda3/lib/python3.12/site-packages/seaborn/categorical.py:3399: UserWarning: 71.9% of the points cannot be placed; you may want to decrease the size of the markers or use stripplot.\n",
      "  warnings.warn(msg, UserWarning)\n",
      "/home/katja/anaconda3/lib/python3.12/site-packages/seaborn/categorical.py:3399: UserWarning: 75.4% of the points cannot be placed; you may want to decrease the size of the markers or use stripplot.\n",
      "  warnings.warn(msg, UserWarning)\n",
      "/home/katja/anaconda3/lib/python3.12/site-packages/seaborn/categorical.py:3399: UserWarning: 81.1% of the points cannot be placed; you may want to decrease the size of the markers or use stripplot.\n",
      "  warnings.warn(msg, UserWarning)\n",
      "/home/katja/anaconda3/lib/python3.12/site-packages/seaborn/categorical.py:3399: UserWarning: 77.1% of the points cannot be placed; you may want to decrease the size of the markers or use stripplot.\n",
      "  warnings.warn(msg, UserWarning)\n",
      "/home/katja/anaconda3/lib/python3.12/site-packages/seaborn/categorical.py:3399: UserWarning: 79.2% of the points cannot be placed; you may want to decrease the size of the markers or use stripplot.\n",
      "  warnings.warn(msg, UserWarning)\n",
      "/home/katja/anaconda3/lib/python3.12/site-packages/seaborn/categorical.py:3399: UserWarning: 89.1% of the points cannot be placed; you may want to decrease the size of the markers or use stripplot.\n",
      "  warnings.warn(msg, UserWarning)\n",
      "/home/katja/anaconda3/lib/python3.12/site-packages/seaborn/categorical.py:3399: UserWarning: 31.2% of the points cannot be placed; you may want to decrease the size of the markers or use stripplot.\n",
      "  warnings.warn(msg, UserWarning)\n",
      "/home/katja/anaconda3/lib/python3.12/site-packages/seaborn/categorical.py:3399: UserWarning: 9.5% of the points cannot be placed; you may want to decrease the size of the markers or use stripplot.\n",
      "  warnings.warn(msg, UserWarning)\n",
      "/home/katja/anaconda3/lib/python3.12/site-packages/seaborn/categorical.py:3399: UserWarning: 76.8% of the points cannot be placed; you may want to decrease the size of the markers or use stripplot.\n",
      "  warnings.warn(msg, UserWarning)\n",
      "/home/katja/anaconda3/lib/python3.12/site-packages/seaborn/categorical.py:3399: UserWarning: 89.9% of the points cannot be placed; you may want to decrease the size of the markers or use stripplot.\n",
      "  warnings.warn(msg, UserWarning)\n",
      "/home/katja/anaconda3/lib/python3.12/site-packages/seaborn/categorical.py:3399: UserWarning: 19.0% of the points cannot be placed; you may want to decrease the size of the markers or use stripplot.\n",
      "  warnings.warn(msg, UserWarning)\n"
     ]
    },
    {
     "data": {
      "text/plain": [
       "<seaborn.axisgrid.FacetGrid at 0x77a1667b9e20>"
      ]
     },
     "execution_count": 320,
     "metadata": {},
     "output_type": "execute_result"
    }
   ],
   "source": [
    "# Swarmplot\n",
    "sns.catplot(x='Year Patron Registered', y = 'Total Renewals',\n",
    "            data=df, kind='swarm', color=\"steelblue\", aspect=4)"
   ]
  },
  {
   "cell_type": "code",
   "execution_count": 322,
   "id": "4507b576-b8b4-490f-a87c-f1922df50a1c",
   "metadata": {},
   "outputs": [
    {
     "data": {
      "text/plain": [
       "<seaborn.axisgrid.FacetGrid at 0x77a1666f12e0>"
      ]
     },
     "execution_count": 322,
     "metadata": {},
     "output_type": "execute_result"
    }
   ],
   "source": [
    "# Boxplot\n",
    "sns.catplot(col='Year Patron Registered', y = 'Total Renewals',\n",
    "            data=df, kind='box', color=\"steelblue\", aspect=4)"
   ]
  },
  {
   "cell_type": "markdown",
   "id": "0561341a-16ad-4d38-a933-bec7050b1117",
   "metadata": {},
   "source": [
    "# Eigene Aufgaben (Projektaufgabe)"
   ]
  },
  {
   "cell_type": "code",
   "execution_count": null,
   "id": "242d438b-ab5d-471c-833b-16834bda92d3",
   "metadata": {},
   "outputs": [],
   "source": []
  }
 ],
 "metadata": {
  "kernelspec": {
   "display_name": "Python [conda env:base] *",
   "language": "python",
   "name": "conda-base-py"
  },
  "language_info": {
   "codemirror_mode": {
    "name": "ipython",
    "version": 3
   },
   "file_extension": ".py",
   "mimetype": "text/x-python",
   "name": "python",
   "nbconvert_exporter": "python",
   "pygments_lexer": "ipython3",
   "version": "3.12.7"
  }
 },
 "nbformat": 4,
 "nbformat_minor": 5
}
