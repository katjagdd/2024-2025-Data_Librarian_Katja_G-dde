{
 "cells": [
  {
   "cell_type": "markdown",
   "id": "8febf06c-a560-4eb4-b188-ec896e6d364a",
   "metadata": {},
   "source": [
    "# Grundbegriffe \n",
    "\n",
    "Beantworte und diskutiere die folgenden Fragen konkret für den in Einheit 1 heruntergeladenen San Francisco Library Usage Datensatz. Notiere Deine Ergebnisse in Stichpunkte."
   ]
  },
  {
   "cell_type": "code",
   "execution_count": 50,
   "id": "180f93af-7814-4a57-829b-362af19f8244",
   "metadata": {},
   "outputs": [],
   "source": [
    "import pandas as pd\n",
    "import numpy as np"
   ]
  },
  {
   "cell_type": "code",
   "execution_count": 51,
   "id": "7eb48693-547b-47da-95cf-d368c521ba15",
   "metadata": {},
   "outputs": [],
   "source": [
    "df = pd.read_csv(\"/home/katja/2024-2025-Data_Lirbrarian_Katja_Gödde/Modul_3/data/Library_Usage.csv\", dtype={\"Within San Francisco County\": str}, na_values=['Null', 'NA', ''], low_memory=False)  "
   ]
  },
  {
   "cell_type": "code",
   "execution_count": 52,
   "id": "faf14577-dbd8-47c5-ad29-9e6a691009c2",
   "metadata": {},
   "outputs": [
    {
     "data": {
      "text/html": [
       "<div>\n",
       "<style scoped>\n",
       "    .dataframe tbody tr th:only-of-type {\n",
       "        vertical-align: middle;\n",
       "    }\n",
       "\n",
       "    .dataframe tbody tr th {\n",
       "        vertical-align: top;\n",
       "    }\n",
       "\n",
       "    .dataframe thead th {\n",
       "        text-align: right;\n",
       "    }\n",
       "</style>\n",
       "<table border=\"1\" class=\"dataframe\">\n",
       "  <thead>\n",
       "    <tr style=\"text-align: right;\">\n",
       "      <th></th>\n",
       "      <th>Patron Type Definition</th>\n",
       "      <th>Total Checkouts</th>\n",
       "      <th>Total Renewals</th>\n",
       "      <th>Age Range</th>\n",
       "      <th>Home Library Definition</th>\n",
       "      <th>Circulation Active Month</th>\n",
       "      <th>Circulation Active Year</th>\n",
       "      <th>Notice Preference Definition</th>\n",
       "      <th>Provided Email Address</th>\n",
       "      <th>Year Patron Registered</th>\n",
       "      <th>Within San Francisco County</th>\n",
       "    </tr>\n",
       "  </thead>\n",
       "  <tbody>\n",
       "    <tr>\n",
       "      <th>0</th>\n",
       "      <td>Senior</td>\n",
       "      <td>5</td>\n",
       "      <td>0</td>\n",
       "      <td>75 years and over</td>\n",
       "      <td>Main</td>\n",
       "      <td>Nov</td>\n",
       "      <td>2022.0</td>\n",
       "      <td>Email</td>\n",
       "      <td>True</td>\n",
       "      <td>2015</td>\n",
       "      <td>False</td>\n",
       "    </tr>\n",
       "    <tr>\n",
       "      <th>1</th>\n",
       "      <td>Adult</td>\n",
       "      <td>0</td>\n",
       "      <td>0</td>\n",
       "      <td>45 to 54 years</td>\n",
       "      <td>Main</td>\n",
       "      <td>Jul</td>\n",
       "      <td>2023.0</td>\n",
       "      <td>Email</td>\n",
       "      <td>True</td>\n",
       "      <td>2019</td>\n",
       "      <td>False</td>\n",
       "    </tr>\n",
       "    <tr>\n",
       "      <th>2</th>\n",
       "      <td>Adult</td>\n",
       "      <td>0</td>\n",
       "      <td>0</td>\n",
       "      <td>55 to 59 years</td>\n",
       "      <td>Western Addition</td>\n",
       "      <td>Mar</td>\n",
       "      <td>2024.0</td>\n",
       "      <td>Email</td>\n",
       "      <td>True</td>\n",
       "      <td>2022</td>\n",
       "      <td>False</td>\n",
       "    </tr>\n",
       "    <tr>\n",
       "      <th>3</th>\n",
       "      <td>Welcome</td>\n",
       "      <td>1</td>\n",
       "      <td>1</td>\n",
       "      <td>20 to 24 years</td>\n",
       "      <td>Richmond</td>\n",
       "      <td>Aug</td>\n",
       "      <td>2022.0</td>\n",
       "      <td>Email</td>\n",
       "      <td>True</td>\n",
       "      <td>2022</td>\n",
       "      <td>False</td>\n",
       "    </tr>\n",
       "    <tr>\n",
       "      <th>4</th>\n",
       "      <td>Senior</td>\n",
       "      <td>0</td>\n",
       "      <td>0</td>\n",
       "      <td>65 to 74 years</td>\n",
       "      <td>Sunset</td>\n",
       "      <td>Mar</td>\n",
       "      <td>2024.0</td>\n",
       "      <td>Print</td>\n",
       "      <td>False</td>\n",
       "      <td>2023</td>\n",
       "      <td>False</td>\n",
       "    </tr>\n",
       "    <tr>\n",
       "      <th>...</th>\n",
       "      <td>...</td>\n",
       "      <td>...</td>\n",
       "      <td>...</td>\n",
       "      <td>...</td>\n",
       "      <td>...</td>\n",
       "      <td>...</td>\n",
       "      <td>...</td>\n",
       "      <td>...</td>\n",
       "      <td>...</td>\n",
       "      <td>...</td>\n",
       "      <td>...</td>\n",
       "    </tr>\n",
       "    <tr>\n",
       "      <th>450354</th>\n",
       "      <td>Digital Access Card</td>\n",
       "      <td>0</td>\n",
       "      <td>0</td>\n",
       "      <td>35 to 44 years</td>\n",
       "      <td>Ingleside</td>\n",
       "      <td>NaN</td>\n",
       "      <td>NaN</td>\n",
       "      <td>Email</td>\n",
       "      <td>False</td>\n",
       "      <td>2023</td>\n",
       "      <td>NaN</td>\n",
       "    </tr>\n",
       "    <tr>\n",
       "      <th>450355</th>\n",
       "      <td>Digital Access Card</td>\n",
       "      <td>0</td>\n",
       "      <td>0</td>\n",
       "      <td>45 to 54 years</td>\n",
       "      <td>Ingleside</td>\n",
       "      <td>Aug</td>\n",
       "      <td>2022.0</td>\n",
       "      <td>Print</td>\n",
       "      <td>False</td>\n",
       "      <td>2022</td>\n",
       "      <td>NaN</td>\n",
       "    </tr>\n",
       "    <tr>\n",
       "      <th>450356</th>\n",
       "      <td>Digital Access Card</td>\n",
       "      <td>0</td>\n",
       "      <td>0</td>\n",
       "      <td>25 to 34 years</td>\n",
       "      <td>Ingleside</td>\n",
       "      <td>Aug</td>\n",
       "      <td>2022.0</td>\n",
       "      <td>Print</td>\n",
       "      <td>False</td>\n",
       "      <td>2022</td>\n",
       "      <td>NaN</td>\n",
       "    </tr>\n",
       "    <tr>\n",
       "      <th>450357</th>\n",
       "      <td>Digital Access Card</td>\n",
       "      <td>0</td>\n",
       "      <td>0</td>\n",
       "      <td>35 to 44 years</td>\n",
       "      <td>Ingleside</td>\n",
       "      <td>Apr</td>\n",
       "      <td>2022.0</td>\n",
       "      <td>Print</td>\n",
       "      <td>False</td>\n",
       "      <td>2022</td>\n",
       "      <td>NaN</td>\n",
       "    </tr>\n",
       "    <tr>\n",
       "      <th>450358</th>\n",
       "      <td>Digital Access Card</td>\n",
       "      <td>0</td>\n",
       "      <td>0</td>\n",
       "      <td>65 to 74 years</td>\n",
       "      <td>Bayview</td>\n",
       "      <td>Apr</td>\n",
       "      <td>2023.0</td>\n",
       "      <td>Email</td>\n",
       "      <td>False</td>\n",
       "      <td>2023</td>\n",
       "      <td>NaN</td>\n",
       "    </tr>\n",
       "  </tbody>\n",
       "</table>\n",
       "<p>450359 rows × 11 columns</p>\n",
       "</div>"
      ],
      "text/plain": [
       "       Patron Type Definition  Total Checkouts  Total Renewals  \\\n",
       "0                      Senior                5               0   \n",
       "1                       Adult                0               0   \n",
       "2                       Adult                0               0   \n",
       "3                     Welcome                1               1   \n",
       "4                      Senior                0               0   \n",
       "...                       ...              ...             ...   \n",
       "450354    Digital Access Card                0               0   \n",
       "450355    Digital Access Card                0               0   \n",
       "450356    Digital Access Card                0               0   \n",
       "450357    Digital Access Card                0               0   \n",
       "450358    Digital Access Card                0               0   \n",
       "\n",
       "                Age Range Home Library Definition Circulation Active Month  \\\n",
       "0       75 years and over                    Main                      Nov   \n",
       "1          45 to 54 years                    Main                      Jul   \n",
       "2          55 to 59 years        Western Addition                      Mar   \n",
       "3          20 to 24 years                Richmond                      Aug   \n",
       "4          65 to 74 years                  Sunset                      Mar   \n",
       "...                   ...                     ...                      ...   \n",
       "450354     35 to 44 years               Ingleside                      NaN   \n",
       "450355     45 to 54 years               Ingleside                      Aug   \n",
       "450356     25 to 34 years               Ingleside                      Aug   \n",
       "450357     35 to 44 years               Ingleside                      Apr   \n",
       "450358     65 to 74 years                 Bayview                      Apr   \n",
       "\n",
       "        Circulation Active Year Notice Preference Definition  \\\n",
       "0                        2022.0                        Email   \n",
       "1                        2023.0                        Email   \n",
       "2                        2024.0                        Email   \n",
       "3                        2022.0                        Email   \n",
       "4                        2024.0                        Print   \n",
       "...                         ...                          ...   \n",
       "450354                      NaN                        Email   \n",
       "450355                   2022.0                        Print   \n",
       "450356                   2022.0                        Print   \n",
       "450357                   2022.0                        Print   \n",
       "450358                   2023.0                        Email   \n",
       "\n",
       "        Provided Email Address  Year Patron Registered  \\\n",
       "0                         True                    2015   \n",
       "1                         True                    2019   \n",
       "2                         True                    2022   \n",
       "3                         True                    2022   \n",
       "4                        False                    2023   \n",
       "...                        ...                     ...   \n",
       "450354                   False                    2023   \n",
       "450355                   False                    2022   \n",
       "450356                   False                    2022   \n",
       "450357                   False                    2022   \n",
       "450358                   False                    2023   \n",
       "\n",
       "       Within San Francisco County  \n",
       "0                            False  \n",
       "1                            False  \n",
       "2                            False  \n",
       "3                            False  \n",
       "4                            False  \n",
       "...                            ...  \n",
       "450354                         NaN  \n",
       "450355                         NaN  \n",
       "450356                         NaN  \n",
       "450357                         NaN  \n",
       "450358                         NaN  \n",
       "\n",
       "[450359 rows x 11 columns]"
      ]
     },
     "execution_count": 52,
     "metadata": {},
     "output_type": "execute_result"
    }
   ],
   "source": [
    "df"
   ]
  },
  {
   "cell_type": "markdown",
   "id": "fa6f9e55-c061-4634-aa40-f32b33b828a3",
   "metadata": {},
   "source": [
    "Wie viele Merkmale besitzt der Datensatz?\n",
    "Der Datensatz besitzt 11 Merkmale, die hier durch die Spaltennamen repräsentiert werden."
   ]
  },
  {
   "cell_type": "markdown",
   "id": "da23261e-bdbe-42eb-bbb8-d644460f3cf3",
   "metadata": {},
   "source": [
    "Wie groß ist die Stichprobengröße des Datensatzes? 450359 (= die Anzahl der Zeilen)"
   ]
  },
  {
   "cell_type": "markdown",
   "id": "e7d811c9-949e-48a0-8620-faac51b0abfb",
   "metadata": {},
   "source": [
    "Wer oder was sind die Merkmalsträger? Die Merkmalsträger sind die Bibliotheksnutzer*innen an denen die Ausprägungen gemessen werden."
   ]
  },
  {
   "cell_type": "markdown",
   "id": "c07f393a-0790-4e76-a70d-a3e7f2556618",
   "metadata": {},
   "source": [
    "Von wann bis wann wurden die Daten erhoben? Vom 02. Dezember 2016 bis zum 25. März 2024 (einsehbar in den Metadaten unter https://data.sfgov.org/Culture-and-Recreation/Library-Usage/qzz6-2jup/about_data)"
   ]
  },
  {
   "cell_type": "markdown",
   "id": "9504c3f7-e4f3-49d1-9d5e-856224976432",
   "metadata": {},
   "source": [
    "Wie lässt sich die Grundgesamtheit beschreiben? Handelt es sich um eine Vollerhebung? Es handelt sich nicht um eine Vollerhebung, da nicht alle Kunden, sondern nur aktive Kunden mit einbezogen wurden. Aktive Kunden sind Kunden mit noch nicht abgelaufenen Bibliotheksausweisen und Kunden, die innerhalb der letzten drei Jahre eine Ausleihtätigkeit ausgeübt haben."
   ]
  },
  {
   "cell_type": "markdown",
   "id": "d9775611-037c-4795-b448-f7b70a102770",
   "metadata": {},
   "source": [
    "Welche Merkmale sind stetig? Welche diskret?\n",
    "- Patron Type Definition: Diskret, da nur abzählbar viele Werte angenommen werden können.\n",
    "- Total Checkouts: Diskret, da nur abzählbar viele Werte angenommen werden können.\n",
    "- Total Reneweals: Diskret, da nur abzählbar viele Werte angenommen werden können.\n",
    "- Age Range: Diskret, da es sich um abzählbar viele Gruppierungen von Altersklassen handelt. Wenn es keine Gruppierung gäbe, wäre das Merkmal dagegen stetig.\n",
    "- Home Library Definition: Diskret, da nur abzählbar viele Werte angenommen werden können.\n",
    "- Circulation Active Month: Diskret, da nur abzählbar viele Werte angenommen werden können.\n",
    "- Circulation Active Year: Diskret, da nur abzählbar viele Werte angenommen werden können.\n",
    "- Notice Preference Definition: Diskret, da nur abzählbar viele Werte angenommen werden können.\n",
    "- Provided Email Address: Diskret, da nur abzählbar viele Werte angenommen werden können.\n",
    "- Year Patron Registered: Diskret, da nur abzählbar viele Werte angenommen werden können.\n",
    "- Within San Francisco County: Diskret, da nur abzählbar viele Werte angenommen werden können."
   ]
  },
  {
   "cell_type": "markdown",
   "id": "4ce5e77a-48b7-4756-9739-8088536c7d80",
   "metadata": {},
   "source": [
    "Welchem Skalenniveau entsprechen die einzelnen Merkmale (Nominal-, Ordinal- oder Metrische Skala)?\n",
    "- Patron Type Definition: Nominalskala\n",
    "- Total Checkouts: Metrische Skala\n",
    "- Total Reneweals: Metrische Skala\n",
    "- Age Range: Ordinalskala\n",
    "- Home Library Definition: Nominalskala\n",
    "- Circulation Active Month: Ordinalskala\n",
    "- Circulation Active Year: Metrische Skala\n",
    "- Notice Preference Definition: Nominalskala\n",
    "- Provided Email Address: Nominalskala\n",
    "- Year Patron Registered: Metrische Skala\n",
    "- Within San Francisco County: Nominalskala"
   ]
  },
  {
   "cell_type": "markdown",
   "id": "70f6c672-d509-4dc0-ba09-598b7ae67637",
   "metadata": {},
   "source": [
    "Enthält der Datensatz fehlende Werte? Ja, in den Spalten Age Range, Home Library Definition, Circulation Active Month, Circulation Active Year, Notice Preference Definition und Within San Francisco County"
   ]
  },
  {
   "cell_type": "code",
   "execution_count": 61,
   "id": "b88c0382-5212-45c2-a428-f8cc3f0dbf46",
   "metadata": {},
   "outputs": [
    {
     "name": "stdout",
     "output_type": "stream",
     "text": [
      "Patron Type Definition              0\n",
      "Total Checkouts                     0\n",
      "Total Renewals                      0\n",
      "Age Range                         510\n",
      "Home Library Definition            30\n",
      "Circulation Active Month        40317\n",
      "Circulation Active Year         40317\n",
      "Notice Preference Definition     3315\n",
      "Provided Email Address              0\n",
      "Year Patron Registered              0\n",
      "Within San Francisco County       221\n",
      "dtype: int64\n"
     ]
    }
   ],
   "source": [
    "fehlende_werte = df.isnull().sum()\n",
    "print(fehlende_werte)"
   ]
  },
  {
   "cell_type": "markdown",
   "id": "06d7a038-bc3e-4a9d-845f-77d01b1d3d9d",
   "metadata": {},
   "source": [
    "Handelt es sich um Querschnitts-, Längsschnitss- oder Paneldaten? Es handelt sich um Paneldaten, da Beobachtungen von denselben Einheiten (Bibliotheksnutzer*innen) zu verschiedenen Zeitpunkten erhoben werden. "
   ]
  },
  {
   "cell_type": "markdown",
   "id": "f2d9a65a-a3c9-4ab5-bce4-94321fea6f83",
   "metadata": {},
   "source": [
    "# 2.5 Fallstudie: Feature Engineering"
   ]
  },
  {
   "cell_type": "code",
   "execution_count": 64,
   "id": "4fc4e8f1-863d-472b-9f1a-f6d2c112ced6",
   "metadata": {},
   "outputs": [
    {
     "data": {
      "text/plain": [
       "Index(['Patron Type Definition', 'Total Checkouts', 'Total Renewals',\n",
       "       'Age Range', 'Home Library Definition', 'Circulation Active Month',\n",
       "       'Circulation Active Year', 'Notice Preference Definition',\n",
       "       'Provided Email Address', 'Year Patron Registered',\n",
       "       'Within San Francisco County'],\n",
       "      dtype='object')"
      ]
     },
     "execution_count": 64,
     "metadata": {},
     "output_type": "execute_result"
    }
   ],
   "source": [
    "df.columns"
   ]
  },
  {
   "cell_type": "code",
   "execution_count": 65,
   "id": "c11fcf43-4f94-403c-944a-5f415e78a4a8",
   "metadata": {},
   "outputs": [
    {
     "data": {
      "text/plain": [
       "0         5\n",
       "1         0\n",
       "2         0\n",
       "3         1\n",
       "4         0\n",
       "         ..\n",
       "450354    0\n",
       "450355    0\n",
       "450356    0\n",
       "450357    0\n",
       "450358    0\n",
       "Name: Total Checkouts, Length: 450359, dtype: int64"
      ]
     },
     "execution_count": 65,
     "metadata": {},
     "output_type": "execute_result"
    }
   ],
   "source": [
    "df['Total Checkouts']"
   ]
  },
  {
   "cell_type": "code",
   "execution_count": 66,
   "id": "f9aa5a09-8102-4926-baef-ea45b490ad4d",
   "metadata": {},
   "outputs": [
    {
     "data": {
      "text/html": [
       "<div>\n",
       "<style scoped>\n",
       "    .dataframe tbody tr th:only-of-type {\n",
       "        vertical-align: middle;\n",
       "    }\n",
       "\n",
       "    .dataframe tbody tr th {\n",
       "        vertical-align: top;\n",
       "    }\n",
       "\n",
       "    .dataframe thead th {\n",
       "        text-align: right;\n",
       "    }\n",
       "</style>\n",
       "<table border=\"1\" class=\"dataframe\">\n",
       "  <thead>\n",
       "    <tr style=\"text-align: right;\">\n",
       "      <th></th>\n",
       "      <th>Total Checkouts</th>\n",
       "      <th>Total Renewals</th>\n",
       "    </tr>\n",
       "  </thead>\n",
       "  <tbody>\n",
       "    <tr>\n",
       "      <th>0</th>\n",
       "      <td>5</td>\n",
       "      <td>0</td>\n",
       "    </tr>\n",
       "    <tr>\n",
       "      <th>1</th>\n",
       "      <td>0</td>\n",
       "      <td>0</td>\n",
       "    </tr>\n",
       "    <tr>\n",
       "      <th>2</th>\n",
       "      <td>0</td>\n",
       "      <td>0</td>\n",
       "    </tr>\n",
       "    <tr>\n",
       "      <th>3</th>\n",
       "      <td>1</td>\n",
       "      <td>1</td>\n",
       "    </tr>\n",
       "    <tr>\n",
       "      <th>4</th>\n",
       "      <td>0</td>\n",
       "      <td>0</td>\n",
       "    </tr>\n",
       "    <tr>\n",
       "      <th>...</th>\n",
       "      <td>...</td>\n",
       "      <td>...</td>\n",
       "    </tr>\n",
       "    <tr>\n",
       "      <th>450354</th>\n",
       "      <td>0</td>\n",
       "      <td>0</td>\n",
       "    </tr>\n",
       "    <tr>\n",
       "      <th>450355</th>\n",
       "      <td>0</td>\n",
       "      <td>0</td>\n",
       "    </tr>\n",
       "    <tr>\n",
       "      <th>450356</th>\n",
       "      <td>0</td>\n",
       "      <td>0</td>\n",
       "    </tr>\n",
       "    <tr>\n",
       "      <th>450357</th>\n",
       "      <td>0</td>\n",
       "      <td>0</td>\n",
       "    </tr>\n",
       "    <tr>\n",
       "      <th>450358</th>\n",
       "      <td>0</td>\n",
       "      <td>0</td>\n",
       "    </tr>\n",
       "  </tbody>\n",
       "</table>\n",
       "<p>450359 rows × 2 columns</p>\n",
       "</div>"
      ],
      "text/plain": [
       "        Total Checkouts  Total Renewals\n",
       "0                     5               0\n",
       "1                     0               0\n",
       "2                     0               0\n",
       "3                     1               1\n",
       "4                     0               0\n",
       "...                 ...             ...\n",
       "450354                0               0\n",
       "450355                0               0\n",
       "450356                0               0\n",
       "450357                0               0\n",
       "450358                0               0\n",
       "\n",
       "[450359 rows x 2 columns]"
      ]
     },
     "execution_count": 66,
     "metadata": {},
     "output_type": "execute_result"
    }
   ],
   "source": [
    "df[['Total Checkouts', 'Total Renewals']]"
   ]
  },
  {
   "cell_type": "code",
   "execution_count": 75,
   "id": "6b1f47ac-8dbe-43f2-8554-990946529667",
   "metadata": {},
   "outputs": [],
   "source": [
    "df['is_adult'] = df['Patron Type Definition'] == 'Adult'\n",
    "df['log_renewals'] = np.log(df['Total Renewals'] + 1)"
   ]
  },
  {
   "cell_type": "code",
   "execution_count": 77,
   "id": "13ff407b-b613-49e5-98c8-72e3be48b151",
   "metadata": {},
   "outputs": [
    {
     "data": {
      "text/plain": [
       "0         False\n",
       "1          True\n",
       "2          True\n",
       "3         False\n",
       "4         False\n",
       "          ...  \n",
       "450354    False\n",
       "450355    False\n",
       "450356    False\n",
       "450357    False\n",
       "450358    False\n",
       "Name: is_adult, Length: 450359, dtype: bool"
      ]
     },
     "execution_count": 77,
     "metadata": {},
     "output_type": "execute_result"
    }
   ],
   "source": [
    "df['is_adult']"
   ]
  },
  {
   "cell_type": "code",
   "execution_count": 79,
   "id": "c2f7086a-39ec-4938-b369-836de0083f4f",
   "metadata": {},
   "outputs": [
    {
     "data": {
      "text/plain": [
       "0         0.000000\n",
       "1         0.000000\n",
       "2         0.000000\n",
       "3         0.693147\n",
       "4         0.000000\n",
       "            ...   \n",
       "450354    0.000000\n",
       "450355    0.000000\n",
       "450356    0.000000\n",
       "450357    0.000000\n",
       "450358    0.000000\n",
       "Name: log_renewals, Length: 450359, dtype: float64"
      ]
     },
     "execution_count": 79,
     "metadata": {},
     "output_type": "execute_result"
    }
   ],
   "source": [
    "df['log_renewals']"
   ]
  },
  {
   "cell_type": "code",
   "execution_count": 81,
   "id": "673ec7be-528e-4272-993a-329448d608e8",
   "metadata": {},
   "outputs": [
    {
     "data": {
      "text/html": [
       "<div>\n",
       "<style scoped>\n",
       "    .dataframe tbody tr th:only-of-type {\n",
       "        vertical-align: middle;\n",
       "    }\n",
       "\n",
       "    .dataframe tbody tr th {\n",
       "        vertical-align: top;\n",
       "    }\n",
       "\n",
       "    .dataframe thead th {\n",
       "        text-align: right;\n",
       "    }\n",
       "</style>\n",
       "<table border=\"1\" class=\"dataframe\">\n",
       "  <thead>\n",
       "    <tr style=\"text-align: right;\">\n",
       "      <th></th>\n",
       "      <th>Patron Type Definition</th>\n",
       "      <th>Total Checkouts</th>\n",
       "      <th>Total Renewals</th>\n",
       "      <th>Age Range</th>\n",
       "      <th>Home Library Definition</th>\n",
       "      <th>Circulation Active Month</th>\n",
       "      <th>Circulation Active Year</th>\n",
       "      <th>Notice Preference Definition</th>\n",
       "      <th>Provided Email Address</th>\n",
       "      <th>Year Patron Registered</th>\n",
       "      <th>Within San Francisco County</th>\n",
       "      <th>is_adult</th>\n",
       "      <th>log_renewals</th>\n",
       "    </tr>\n",
       "  </thead>\n",
       "  <tbody>\n",
       "    <tr>\n",
       "      <th>0</th>\n",
       "      <td>Senior</td>\n",
       "      <td>5</td>\n",
       "      <td>0</td>\n",
       "      <td>75 years and over</td>\n",
       "      <td>Main</td>\n",
       "      <td>Nov</td>\n",
       "      <td>2022.0</td>\n",
       "      <td>Email</td>\n",
       "      <td>True</td>\n",
       "      <td>2015</td>\n",
       "      <td>False</td>\n",
       "      <td>False</td>\n",
       "      <td>0.000000</td>\n",
       "    </tr>\n",
       "    <tr>\n",
       "      <th>1</th>\n",
       "      <td>Adult</td>\n",
       "      <td>0</td>\n",
       "      <td>0</td>\n",
       "      <td>45 to 54 years</td>\n",
       "      <td>Main</td>\n",
       "      <td>Jul</td>\n",
       "      <td>2023.0</td>\n",
       "      <td>Email</td>\n",
       "      <td>True</td>\n",
       "      <td>2019</td>\n",
       "      <td>False</td>\n",
       "      <td>True</td>\n",
       "      <td>0.000000</td>\n",
       "    </tr>\n",
       "    <tr>\n",
       "      <th>2</th>\n",
       "      <td>Adult</td>\n",
       "      <td>0</td>\n",
       "      <td>0</td>\n",
       "      <td>55 to 59 years</td>\n",
       "      <td>Western Addition</td>\n",
       "      <td>Mar</td>\n",
       "      <td>2024.0</td>\n",
       "      <td>Email</td>\n",
       "      <td>True</td>\n",
       "      <td>2022</td>\n",
       "      <td>False</td>\n",
       "      <td>True</td>\n",
       "      <td>0.000000</td>\n",
       "    </tr>\n",
       "    <tr>\n",
       "      <th>3</th>\n",
       "      <td>Welcome</td>\n",
       "      <td>1</td>\n",
       "      <td>1</td>\n",
       "      <td>20 to 24 years</td>\n",
       "      <td>Richmond</td>\n",
       "      <td>Aug</td>\n",
       "      <td>2022.0</td>\n",
       "      <td>Email</td>\n",
       "      <td>True</td>\n",
       "      <td>2022</td>\n",
       "      <td>False</td>\n",
       "      <td>False</td>\n",
       "      <td>0.693147</td>\n",
       "    </tr>\n",
       "    <tr>\n",
       "      <th>4</th>\n",
       "      <td>Senior</td>\n",
       "      <td>0</td>\n",
       "      <td>0</td>\n",
       "      <td>65 to 74 years</td>\n",
       "      <td>Sunset</td>\n",
       "      <td>Mar</td>\n",
       "      <td>2024.0</td>\n",
       "      <td>Print</td>\n",
       "      <td>False</td>\n",
       "      <td>2023</td>\n",
       "      <td>False</td>\n",
       "      <td>False</td>\n",
       "      <td>0.000000</td>\n",
       "    </tr>\n",
       "    <tr>\n",
       "      <th>...</th>\n",
       "      <td>...</td>\n",
       "      <td>...</td>\n",
       "      <td>...</td>\n",
       "      <td>...</td>\n",
       "      <td>...</td>\n",
       "      <td>...</td>\n",
       "      <td>...</td>\n",
       "      <td>...</td>\n",
       "      <td>...</td>\n",
       "      <td>...</td>\n",
       "      <td>...</td>\n",
       "      <td>...</td>\n",
       "      <td>...</td>\n",
       "    </tr>\n",
       "    <tr>\n",
       "      <th>450354</th>\n",
       "      <td>Digital Access Card</td>\n",
       "      <td>0</td>\n",
       "      <td>0</td>\n",
       "      <td>35 to 44 years</td>\n",
       "      <td>Ingleside</td>\n",
       "      <td>NaN</td>\n",
       "      <td>NaN</td>\n",
       "      <td>Email</td>\n",
       "      <td>False</td>\n",
       "      <td>2023</td>\n",
       "      <td>NaN</td>\n",
       "      <td>False</td>\n",
       "      <td>0.000000</td>\n",
       "    </tr>\n",
       "    <tr>\n",
       "      <th>450355</th>\n",
       "      <td>Digital Access Card</td>\n",
       "      <td>0</td>\n",
       "      <td>0</td>\n",
       "      <td>45 to 54 years</td>\n",
       "      <td>Ingleside</td>\n",
       "      <td>Aug</td>\n",
       "      <td>2022.0</td>\n",
       "      <td>Print</td>\n",
       "      <td>False</td>\n",
       "      <td>2022</td>\n",
       "      <td>NaN</td>\n",
       "      <td>False</td>\n",
       "      <td>0.000000</td>\n",
       "    </tr>\n",
       "    <tr>\n",
       "      <th>450356</th>\n",
       "      <td>Digital Access Card</td>\n",
       "      <td>0</td>\n",
       "      <td>0</td>\n",
       "      <td>25 to 34 years</td>\n",
       "      <td>Ingleside</td>\n",
       "      <td>Aug</td>\n",
       "      <td>2022.0</td>\n",
       "      <td>Print</td>\n",
       "      <td>False</td>\n",
       "      <td>2022</td>\n",
       "      <td>NaN</td>\n",
       "      <td>False</td>\n",
       "      <td>0.000000</td>\n",
       "    </tr>\n",
       "    <tr>\n",
       "      <th>450357</th>\n",
       "      <td>Digital Access Card</td>\n",
       "      <td>0</td>\n",
       "      <td>0</td>\n",
       "      <td>35 to 44 years</td>\n",
       "      <td>Ingleside</td>\n",
       "      <td>Apr</td>\n",
       "      <td>2022.0</td>\n",
       "      <td>Print</td>\n",
       "      <td>False</td>\n",
       "      <td>2022</td>\n",
       "      <td>NaN</td>\n",
       "      <td>False</td>\n",
       "      <td>0.000000</td>\n",
       "    </tr>\n",
       "    <tr>\n",
       "      <th>450358</th>\n",
       "      <td>Digital Access Card</td>\n",
       "      <td>0</td>\n",
       "      <td>0</td>\n",
       "      <td>65 to 74 years</td>\n",
       "      <td>Bayview</td>\n",
       "      <td>Apr</td>\n",
       "      <td>2023.0</td>\n",
       "      <td>Email</td>\n",
       "      <td>False</td>\n",
       "      <td>2023</td>\n",
       "      <td>NaN</td>\n",
       "      <td>False</td>\n",
       "      <td>0.000000</td>\n",
       "    </tr>\n",
       "  </tbody>\n",
       "</table>\n",
       "<p>450359 rows × 13 columns</p>\n",
       "</div>"
      ],
      "text/plain": [
       "       Patron Type Definition  Total Checkouts  Total Renewals  \\\n",
       "0                      Senior                5               0   \n",
       "1                       Adult                0               0   \n",
       "2                       Adult                0               0   \n",
       "3                     Welcome                1               1   \n",
       "4                      Senior                0               0   \n",
       "...                       ...              ...             ...   \n",
       "450354    Digital Access Card                0               0   \n",
       "450355    Digital Access Card                0               0   \n",
       "450356    Digital Access Card                0               0   \n",
       "450357    Digital Access Card                0               0   \n",
       "450358    Digital Access Card                0               0   \n",
       "\n",
       "                Age Range Home Library Definition Circulation Active Month  \\\n",
       "0       75 years and over                    Main                      Nov   \n",
       "1          45 to 54 years                    Main                      Jul   \n",
       "2          55 to 59 years        Western Addition                      Mar   \n",
       "3          20 to 24 years                Richmond                      Aug   \n",
       "4          65 to 74 years                  Sunset                      Mar   \n",
       "...                   ...                     ...                      ...   \n",
       "450354     35 to 44 years               Ingleside                      NaN   \n",
       "450355     45 to 54 years               Ingleside                      Aug   \n",
       "450356     25 to 34 years               Ingleside                      Aug   \n",
       "450357     35 to 44 years               Ingleside                      Apr   \n",
       "450358     65 to 74 years                 Bayview                      Apr   \n",
       "\n",
       "        Circulation Active Year Notice Preference Definition  \\\n",
       "0                        2022.0                        Email   \n",
       "1                        2023.0                        Email   \n",
       "2                        2024.0                        Email   \n",
       "3                        2022.0                        Email   \n",
       "4                        2024.0                        Print   \n",
       "...                         ...                          ...   \n",
       "450354                      NaN                        Email   \n",
       "450355                   2022.0                        Print   \n",
       "450356                   2022.0                        Print   \n",
       "450357                   2022.0                        Print   \n",
       "450358                   2023.0                        Email   \n",
       "\n",
       "        Provided Email Address  Year Patron Registered  \\\n",
       "0                         True                    2015   \n",
       "1                         True                    2019   \n",
       "2                         True                    2022   \n",
       "3                         True                    2022   \n",
       "4                        False                    2023   \n",
       "...                        ...                     ...   \n",
       "450354                   False                    2023   \n",
       "450355                   False                    2022   \n",
       "450356                   False                    2022   \n",
       "450357                   False                    2022   \n",
       "450358                   False                    2023   \n",
       "\n",
       "       Within San Francisco County  is_adult  log_renewals  \n",
       "0                            False     False      0.000000  \n",
       "1                            False      True      0.000000  \n",
       "2                            False      True      0.000000  \n",
       "3                            False     False      0.693147  \n",
       "4                            False     False      0.000000  \n",
       "...                            ...       ...           ...  \n",
       "450354                         NaN     False      0.000000  \n",
       "450355                         NaN     False      0.000000  \n",
       "450356                         NaN     False      0.000000  \n",
       "450357                         NaN     False      0.000000  \n",
       "450358                         NaN     False      0.000000  \n",
       "\n",
       "[450359 rows x 13 columns]"
      ]
     },
     "execution_count": 81,
     "metadata": {},
     "output_type": "execute_result"
    }
   ],
   "source": [
    "df"
   ]
  },
  {
   "cell_type": "code",
   "execution_count": 85,
   "id": "36e34202-c518-4c80-95d5-d7ae8c53f879",
   "metadata": {},
   "outputs": [
    {
     "ename": "TypeError",
     "evalue": "unsupported operand type(s) for -: 'str' and 'str'",
     "output_type": "error",
     "traceback": [
      "\u001b[0;31m---------------------------------------------------------------------------\u001b[0m",
      "\u001b[0;31mTypeError\u001b[0m                                 Traceback (most recent call last)",
      "Cell \u001b[0;32mIn[85], line 1\u001b[0m\n\u001b[0;32m----> 1\u001b[0m df[\u001b[38;5;124m'\u001b[39m\u001b[38;5;124mMembership Duration\u001b[39m\u001b[38;5;124m'\u001b[39m] \u001b[38;5;241m=\u001b[39m (\u001b[38;5;124m'\u001b[39m\u001b[38;5;124mCirculation Active Year\u001b[39m\u001b[38;5;124m'\u001b[39m \u001b[38;5;241m-\u001b[39m \u001b[38;5;124m'\u001b[39m\u001b[38;5;124mYear Patron Registered\u001b[39m\u001b[38;5;124m'\u001b[39m)\u001b[38;5;241m*\u001b[39m\u001b[38;5;241m12\u001b[39m \u001b[38;5;241m+\u001b[39m \u001b[38;5;124m'\u001b[39m\u001b[38;5;124mCirculation Active Month\u001b[39m\u001b[38;5;124m'\u001b[39m\n",
      "\u001b[0;31mTypeError\u001b[0m: unsupported operand type(s) for -: 'str' and 'str'"
     ]
    }
   ],
   "source": [
    "df['Membership Duration'] = ('Circulation Active Year' - 'Year Patron Registered')*12 + 'Circulation Active Month'"
   ]
  },
  {
   "cell_type": "code",
   "execution_count": 87,
   "id": "56549ba1-662a-4c47-a318-91e131d0315a",
   "metadata": {},
   "outputs": [
    {
     "data": {
      "text/plain": [
       "0         2022.0\n",
       "1         2023.0\n",
       "2         2024.0\n",
       "3         2022.0\n",
       "4         2024.0\n",
       "           ...  \n",
       "450354       NaN\n",
       "450355    2022.0\n",
       "450356    2022.0\n",
       "450357    2022.0\n",
       "450358    2023.0\n",
       "Name: Circulation Active Year, Length: 450359, dtype: float64"
      ]
     },
     "execution_count": 87,
     "metadata": {},
     "output_type": "execute_result"
    }
   ],
   "source": [
    "pd.to_numeric(\n",
    "  df['Circulation Active Year'], errors='coerce'\n",
    ")"
   ]
  },
  {
   "cell_type": "code",
   "execution_count": 91,
   "id": "1cfbae08-4261-4aac-bafa-a2ae7d8471fb",
   "metadata": {},
   "outputs": [
    {
     "data": {
      "text/plain": [
       "0        1900-11-01\n",
       "1        1900-07-01\n",
       "2        1900-03-01\n",
       "3        1900-08-01\n",
       "4        1900-03-01\n",
       "            ...    \n",
       "450354          NaT\n",
       "450355   1900-08-01\n",
       "450356   1900-08-01\n",
       "450357   1900-04-01\n",
       "450358   1900-04-01\n",
       "Name: Circulation Active Month, Length: 450359, dtype: datetime64[ns]"
      ]
     },
     "execution_count": 91,
     "metadata": {},
     "output_type": "execute_result"
    }
   ],
   "source": [
    "pd.to_datetime(\n",
    "    df['Circulation Active Month'],\n",
    "    errors='coerce',\n",
    "    format=\"%b\"\n",
    ")\n"
   ]
  },
  {
   "cell_type": "code",
   "execution_count": 93,
   "id": "392cbd14-a1e9-4ab6-9be8-24145d834216",
   "metadata": {},
   "outputs": [
    {
     "ename": "AttributeError",
     "evalue": "Can only use .dt accessor with datetimelike values",
     "output_type": "error",
     "traceback": [
      "\u001b[0;31m---------------------------------------------------------------------------\u001b[0m",
      "\u001b[0;31mAttributeError\u001b[0m                            Traceback (most recent call last)",
      "Cell \u001b[0;32mIn[93], line 1\u001b[0m\n\u001b[0;32m----> 1\u001b[0m df[\u001b[38;5;124m'\u001b[39m\u001b[38;5;124mCirculation Active Month\u001b[39m\u001b[38;5;124m'\u001b[39m]\u001b[38;5;241m.\u001b[39mdt\u001b[38;5;241m.\u001b[39mmonth\n",
      "File \u001b[0;32m~/anaconda3/lib/python3.12/site-packages/pandas/core/generic.py:6299\u001b[0m, in \u001b[0;36mNDFrame.__getattr__\u001b[0;34m(self, name)\u001b[0m\n\u001b[1;32m   6292\u001b[0m \u001b[38;5;28;01mif\u001b[39;00m (\n\u001b[1;32m   6293\u001b[0m     name \u001b[38;5;129;01mnot\u001b[39;00m \u001b[38;5;129;01min\u001b[39;00m \u001b[38;5;28mself\u001b[39m\u001b[38;5;241m.\u001b[39m_internal_names_set\n\u001b[1;32m   6294\u001b[0m     \u001b[38;5;129;01mand\u001b[39;00m name \u001b[38;5;129;01mnot\u001b[39;00m \u001b[38;5;129;01min\u001b[39;00m \u001b[38;5;28mself\u001b[39m\u001b[38;5;241m.\u001b[39m_metadata\n\u001b[1;32m   6295\u001b[0m     \u001b[38;5;129;01mand\u001b[39;00m name \u001b[38;5;129;01mnot\u001b[39;00m \u001b[38;5;129;01min\u001b[39;00m \u001b[38;5;28mself\u001b[39m\u001b[38;5;241m.\u001b[39m_accessors\n\u001b[1;32m   6296\u001b[0m     \u001b[38;5;129;01mand\u001b[39;00m \u001b[38;5;28mself\u001b[39m\u001b[38;5;241m.\u001b[39m_info_axis\u001b[38;5;241m.\u001b[39m_can_hold_identifiers_and_holds_name(name)\n\u001b[1;32m   6297\u001b[0m ):\n\u001b[1;32m   6298\u001b[0m     \u001b[38;5;28;01mreturn\u001b[39;00m \u001b[38;5;28mself\u001b[39m[name]\n\u001b[0;32m-> 6299\u001b[0m \u001b[38;5;28;01mreturn\u001b[39;00m \u001b[38;5;28mobject\u001b[39m\u001b[38;5;241m.\u001b[39m\u001b[38;5;21m__getattribute__\u001b[39m(\u001b[38;5;28mself\u001b[39m, name)\n",
      "File \u001b[0;32m~/anaconda3/lib/python3.12/site-packages/pandas/core/accessor.py:224\u001b[0m, in \u001b[0;36mCachedAccessor.__get__\u001b[0;34m(self, obj, cls)\u001b[0m\n\u001b[1;32m    221\u001b[0m \u001b[38;5;28;01mif\u001b[39;00m obj \u001b[38;5;129;01mis\u001b[39;00m \u001b[38;5;28;01mNone\u001b[39;00m:\n\u001b[1;32m    222\u001b[0m     \u001b[38;5;66;03m# we're accessing the attribute of the class, i.e., Dataset.geo\u001b[39;00m\n\u001b[1;32m    223\u001b[0m     \u001b[38;5;28;01mreturn\u001b[39;00m \u001b[38;5;28mself\u001b[39m\u001b[38;5;241m.\u001b[39m_accessor\n\u001b[0;32m--> 224\u001b[0m accessor_obj \u001b[38;5;241m=\u001b[39m \u001b[38;5;28mself\u001b[39m\u001b[38;5;241m.\u001b[39m_accessor(obj)\n\u001b[1;32m    225\u001b[0m \u001b[38;5;66;03m# Replace the property with the accessor object. Inspired by:\u001b[39;00m\n\u001b[1;32m    226\u001b[0m \u001b[38;5;66;03m# https://www.pydanny.com/cached-property.html\u001b[39;00m\n\u001b[1;32m    227\u001b[0m \u001b[38;5;66;03m# We need to use object.__setattr__ because we overwrite __setattr__ on\u001b[39;00m\n\u001b[1;32m    228\u001b[0m \u001b[38;5;66;03m# NDFrame\u001b[39;00m\n\u001b[1;32m    229\u001b[0m \u001b[38;5;28mobject\u001b[39m\u001b[38;5;241m.\u001b[39m\u001b[38;5;21m__setattr__\u001b[39m(obj, \u001b[38;5;28mself\u001b[39m\u001b[38;5;241m.\u001b[39m_name, accessor_obj)\n",
      "File \u001b[0;32m~/anaconda3/lib/python3.12/site-packages/pandas/core/indexes/accessors.py:643\u001b[0m, in \u001b[0;36mCombinedDatetimelikeProperties.__new__\u001b[0;34m(cls, data)\u001b[0m\n\u001b[1;32m    640\u001b[0m \u001b[38;5;28;01melif\u001b[39;00m \u001b[38;5;28misinstance\u001b[39m(data\u001b[38;5;241m.\u001b[39mdtype, PeriodDtype):\n\u001b[1;32m    641\u001b[0m     \u001b[38;5;28;01mreturn\u001b[39;00m PeriodProperties(data, orig)\n\u001b[0;32m--> 643\u001b[0m \u001b[38;5;28;01mraise\u001b[39;00m \u001b[38;5;167;01mAttributeError\u001b[39;00m(\u001b[38;5;124m\"\u001b[39m\u001b[38;5;124mCan only use .dt accessor with datetimelike values\u001b[39m\u001b[38;5;124m\"\u001b[39m)\n",
      "\u001b[0;31mAttributeError\u001b[0m: Can only use .dt accessor with datetimelike values"
     ]
    }
   ],
   "source": [
    "df['Circulation Active Month'].dt.month"
   ]
  },
  {
   "cell_type": "code",
   "execution_count": 95,
   "id": "f64feb54-856a-46d4-b844-90136b50e0ec",
   "metadata": {},
   "outputs": [
    {
     "data": {
      "text/plain": [
       "0    Nov\n",
       "1    Jul\n",
       "2    Mar\n",
       "3    Aug\n",
       "4    Mar\n",
       "Name: Circulation Active Month, dtype: object"
      ]
     },
     "execution_count": 95,
     "metadata": {},
     "output_type": "execute_result"
    }
   ],
   "source": [
    "df['Circulation Active Month'].head() "
   ]
  },
  {
   "cell_type": "code",
   "execution_count": 97,
   "id": "cecb55f5-dc47-403b-9e19-82c284c7d434",
   "metadata": {},
   "outputs": [
    {
     "data": {
      "text/plain": [
       "array(['Nov', 'Jul', 'Mar', 'Aug', 'Apr', 'Feb', 'Jan', nan, 'May', 'Oct',\n",
       "       'Sep', 'Jun', 'Dec'], dtype=object)"
      ]
     },
     "execution_count": 97,
     "metadata": {},
     "output_type": "execute_result"
    }
   ],
   "source": [
    "df['Circulation Active Month'].unique()"
   ]
  },
  {
   "cell_type": "code",
   "execution_count": 99,
   "id": "081f1eaa-658c-40d2-a3e9-c5bc42077ab5",
   "metadata": {},
   "outputs": [
    {
     "ename": "TypeError",
     "evalue": "unsupported operand type(s) for -: 'str' and 'str'",
     "output_type": "error",
     "traceback": [
      "\u001b[0;31m---------------------------------------------------------------------------\u001b[0m",
      "\u001b[0;31mTypeError\u001b[0m                                 Traceback (most recent call last)",
      "Cell \u001b[0;32mIn[99], line 1\u001b[0m\n\u001b[0;32m----> 1\u001b[0m df[\u001b[38;5;124m'\u001b[39m\u001b[38;5;124mMembership Duration\u001b[39m\u001b[38;5;124m'\u001b[39m] \u001b[38;5;241m=\u001b[39m (\u001b[38;5;124m'\u001b[39m\u001b[38;5;124mCirculation Active Year\u001b[39m\u001b[38;5;124m'\u001b[39m \u001b[38;5;241m-\u001b[39m \u001b[38;5;124m'\u001b[39m\u001b[38;5;124mYear Patron Registered\u001b[39m\u001b[38;5;124m'\u001b[39m)\u001b[38;5;241m*\u001b[39m\u001b[38;5;241m12\u001b[39m \u001b[38;5;241m+\u001b[39m \u001b[38;5;124m'\u001b[39m\u001b[38;5;124mCirculation Active Month\u001b[39m\u001b[38;5;124m'\u001b[39m\n",
      "\u001b[0;31mTypeError\u001b[0m: unsupported operand type(s) for -: 'str' and 'str'"
     ]
    }
   ],
   "source": [
    "df['Membership Duration'] = ('Circulation Active Year' - 'Year Patron Registered')*12 + 'Circulation Active Month'\n"
   ]
  },
  {
   "cell_type": "code",
   "execution_count": 101,
   "id": "e474e31f-d6b1-4fd6-bd5c-fd5e8d6710f6",
   "metadata": {},
   "outputs": [
    {
     "ename": "KeyError",
     "evalue": "'Membership Duration'",
     "output_type": "error",
     "traceback": [
      "\u001b[0;31m---------------------------------------------------------------------------\u001b[0m",
      "\u001b[0;31mKeyError\u001b[0m                                  Traceback (most recent call last)",
      "File \u001b[0;32m~/anaconda3/lib/python3.12/site-packages/pandas/core/indexes/base.py:3805\u001b[0m, in \u001b[0;36mIndex.get_loc\u001b[0;34m(self, key)\u001b[0m\n\u001b[1;32m   3804\u001b[0m \u001b[38;5;28;01mtry\u001b[39;00m:\n\u001b[0;32m-> 3805\u001b[0m     \u001b[38;5;28;01mreturn\u001b[39;00m \u001b[38;5;28mself\u001b[39m\u001b[38;5;241m.\u001b[39m_engine\u001b[38;5;241m.\u001b[39mget_loc(casted_key)\n\u001b[1;32m   3806\u001b[0m \u001b[38;5;28;01mexcept\u001b[39;00m \u001b[38;5;167;01mKeyError\u001b[39;00m \u001b[38;5;28;01mas\u001b[39;00m err:\n",
      "File \u001b[0;32mindex.pyx:167\u001b[0m, in \u001b[0;36mpandas._libs.index.IndexEngine.get_loc\u001b[0;34m()\u001b[0m\n",
      "File \u001b[0;32mindex.pyx:196\u001b[0m, in \u001b[0;36mpandas._libs.index.IndexEngine.get_loc\u001b[0;34m()\u001b[0m\n",
      "File \u001b[0;32mpandas/_libs/hashtable_class_helper.pxi:7081\u001b[0m, in \u001b[0;36mpandas._libs.hashtable.PyObjectHashTable.get_item\u001b[0;34m()\u001b[0m\n",
      "File \u001b[0;32mpandas/_libs/hashtable_class_helper.pxi:7089\u001b[0m, in \u001b[0;36mpandas._libs.hashtable.PyObjectHashTable.get_item\u001b[0;34m()\u001b[0m\n",
      "\u001b[0;31mKeyError\u001b[0m: 'Membership Duration'",
      "\nThe above exception was the direct cause of the following exception:\n",
      "\u001b[0;31mKeyError\u001b[0m                                  Traceback (most recent call last)",
      "Cell \u001b[0;32mIn[101], line 1\u001b[0m\n\u001b[0;32m----> 1\u001b[0m df[\u001b[38;5;124m'\u001b[39m\u001b[38;5;124mMembership Duration\u001b[39m\u001b[38;5;124m'\u001b[39m]\u001b[38;5;241m.\u001b[39mfillna(\u001b[38;5;241m0\u001b[39m)\n",
      "File \u001b[0;32m~/anaconda3/lib/python3.12/site-packages/pandas/core/frame.py:4102\u001b[0m, in \u001b[0;36mDataFrame.__getitem__\u001b[0;34m(self, key)\u001b[0m\n\u001b[1;32m   4100\u001b[0m \u001b[38;5;28;01mif\u001b[39;00m \u001b[38;5;28mself\u001b[39m\u001b[38;5;241m.\u001b[39mcolumns\u001b[38;5;241m.\u001b[39mnlevels \u001b[38;5;241m>\u001b[39m \u001b[38;5;241m1\u001b[39m:\n\u001b[1;32m   4101\u001b[0m     \u001b[38;5;28;01mreturn\u001b[39;00m \u001b[38;5;28mself\u001b[39m\u001b[38;5;241m.\u001b[39m_getitem_multilevel(key)\n\u001b[0;32m-> 4102\u001b[0m indexer \u001b[38;5;241m=\u001b[39m \u001b[38;5;28mself\u001b[39m\u001b[38;5;241m.\u001b[39mcolumns\u001b[38;5;241m.\u001b[39mget_loc(key)\n\u001b[1;32m   4103\u001b[0m \u001b[38;5;28;01mif\u001b[39;00m is_integer(indexer):\n\u001b[1;32m   4104\u001b[0m     indexer \u001b[38;5;241m=\u001b[39m [indexer]\n",
      "File \u001b[0;32m~/anaconda3/lib/python3.12/site-packages/pandas/core/indexes/base.py:3812\u001b[0m, in \u001b[0;36mIndex.get_loc\u001b[0;34m(self, key)\u001b[0m\n\u001b[1;32m   3807\u001b[0m     \u001b[38;5;28;01mif\u001b[39;00m \u001b[38;5;28misinstance\u001b[39m(casted_key, \u001b[38;5;28mslice\u001b[39m) \u001b[38;5;129;01mor\u001b[39;00m (\n\u001b[1;32m   3808\u001b[0m         \u001b[38;5;28misinstance\u001b[39m(casted_key, abc\u001b[38;5;241m.\u001b[39mIterable)\n\u001b[1;32m   3809\u001b[0m         \u001b[38;5;129;01mand\u001b[39;00m \u001b[38;5;28many\u001b[39m(\u001b[38;5;28misinstance\u001b[39m(x, \u001b[38;5;28mslice\u001b[39m) \u001b[38;5;28;01mfor\u001b[39;00m x \u001b[38;5;129;01min\u001b[39;00m casted_key)\n\u001b[1;32m   3810\u001b[0m     ):\n\u001b[1;32m   3811\u001b[0m         \u001b[38;5;28;01mraise\u001b[39;00m InvalidIndexError(key)\n\u001b[0;32m-> 3812\u001b[0m     \u001b[38;5;28;01mraise\u001b[39;00m \u001b[38;5;167;01mKeyError\u001b[39;00m(key) \u001b[38;5;28;01mfrom\u001b[39;00m \u001b[38;5;21;01merr\u001b[39;00m\n\u001b[1;32m   3813\u001b[0m \u001b[38;5;28;01mexcept\u001b[39;00m \u001b[38;5;167;01mTypeError\u001b[39;00m:\n\u001b[1;32m   3814\u001b[0m     \u001b[38;5;66;03m# If we have a listlike key, _check_indexing_error will raise\u001b[39;00m\n\u001b[1;32m   3815\u001b[0m     \u001b[38;5;66;03m#  InvalidIndexError. Otherwise we fall through and re-raise\u001b[39;00m\n\u001b[1;32m   3816\u001b[0m     \u001b[38;5;66;03m#  the TypeError.\u001b[39;00m\n\u001b[1;32m   3817\u001b[0m     \u001b[38;5;28mself\u001b[39m\u001b[38;5;241m.\u001b[39m_check_indexing_error(key)\n",
      "\u001b[0;31mKeyError\u001b[0m: 'Membership Duration'"
     ]
    }
   ],
   "source": [
    "df['Membership Duration'].fillna(0)"
   ]
  },
  {
   "cell_type": "code",
   "execution_count": null,
   "id": "305048d3-2cc4-418b-be17-f6beef434449",
   "metadata": {},
   "outputs": [],
   "source": []
  }
 ],
 "metadata": {
  "kernelspec": {
   "display_name": "Python [conda env:base] *",
   "language": "python",
   "name": "conda-base-py"
  },
  "language_info": {
   "codemirror_mode": {
    "name": "ipython",
    "version": 3
   },
   "file_extension": ".py",
   "mimetype": "text/x-python",
   "name": "python",
   "nbconvert_exporter": "python",
   "pygments_lexer": "ipython3",
   "version": "3.12.7"
  }
 },
 "nbformat": 4,
 "nbformat_minor": 5
}
