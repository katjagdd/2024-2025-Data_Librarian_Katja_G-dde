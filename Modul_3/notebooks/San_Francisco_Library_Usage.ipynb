{
 "cells": [
  {
   "cell_type": "markdown",
   "id": "8febf06c-a560-4eb4-b188-ec896e6d364a",
   "metadata": {},
   "source": [
    "# Grundbegriffe \n",
    "\n",
    "Beantworte und diskutiere die folgenden Fragen konkret für den in Einheit 1 heruntergeladenen San Francisco Library Usage Datensatz. Notiere Deine Ergebnisse in Stichpunkte."
   ]
  },
  {
   "cell_type": "code",
   "execution_count": 5,
   "id": "180f93af-7814-4a57-829b-362af19f8244",
   "metadata": {},
   "outputs": [],
   "source": [
    "import pandas as pd"
   ]
  },
  {
   "cell_type": "code",
   "execution_count": 6,
   "id": "7eb48693-547b-47da-95cf-d368c521ba15",
   "metadata": {},
   "outputs": [],
   "source": [
    "df = pd.read_csv(\"/home/katja/2024-2025-Data_Lirbrarian_Katja_Gödde/Modul_3/data/Library_Usage.csv\", dtype={\"Within San Francisco County\": str}, na_values=['Null', 'NA', ''])  "
   ]
  },
  {
   "cell_type": "code",
   "execution_count": 7,
   "id": "faf14577-dbd8-47c5-ad29-9e6a691009c2",
   "metadata": {},
   "outputs": [
    {
     "data": {
      "text/html": [
       "<div>\n",
       "<style scoped>\n",
       "    .dataframe tbody tr th:only-of-type {\n",
       "        vertical-align: middle;\n",
       "    }\n",
       "\n",
       "    .dataframe tbody tr th {\n",
       "        vertical-align: top;\n",
       "    }\n",
       "\n",
       "    .dataframe thead th {\n",
       "        text-align: right;\n",
       "    }\n",
       "</style>\n",
       "<table border=\"1\" class=\"dataframe\">\n",
       "  <thead>\n",
       "    <tr style=\"text-align: right;\">\n",
       "      <th></th>\n",
       "      <th>Patron Type Definition</th>\n",
       "      <th>Total Checkouts</th>\n",
       "      <th>Total Renewals</th>\n",
       "      <th>Age Range</th>\n",
       "      <th>Home Library Definition</th>\n",
       "      <th>Circulation Active Month</th>\n",
       "      <th>Circulation Active Year</th>\n",
       "      <th>Notice Preference Definition</th>\n",
       "      <th>Provided Email Address</th>\n",
       "      <th>Year Patron Registered</th>\n",
       "      <th>Within San Francisco County</th>\n",
       "    </tr>\n",
       "  </thead>\n",
       "  <tbody>\n",
       "    <tr>\n",
       "      <th>0</th>\n",
       "      <td>Senior</td>\n",
       "      <td>5</td>\n",
       "      <td>0</td>\n",
       "      <td>75 years and over</td>\n",
       "      <td>Main</td>\n",
       "      <td>Nov</td>\n",
       "      <td>2022.0</td>\n",
       "      <td>Email</td>\n",
       "      <td>True</td>\n",
       "      <td>2015</td>\n",
       "      <td>False</td>\n",
       "    </tr>\n",
       "    <tr>\n",
       "      <th>1</th>\n",
       "      <td>Adult</td>\n",
       "      <td>0</td>\n",
       "      <td>0</td>\n",
       "      <td>45 to 54 years</td>\n",
       "      <td>Main</td>\n",
       "      <td>Jul</td>\n",
       "      <td>2023.0</td>\n",
       "      <td>Email</td>\n",
       "      <td>True</td>\n",
       "      <td>2019</td>\n",
       "      <td>False</td>\n",
       "    </tr>\n",
       "    <tr>\n",
       "      <th>2</th>\n",
       "      <td>Adult</td>\n",
       "      <td>0</td>\n",
       "      <td>0</td>\n",
       "      <td>55 to 59 years</td>\n",
       "      <td>Western Addition</td>\n",
       "      <td>Mar</td>\n",
       "      <td>2024.0</td>\n",
       "      <td>Email</td>\n",
       "      <td>True</td>\n",
       "      <td>2022</td>\n",
       "      <td>False</td>\n",
       "    </tr>\n",
       "    <tr>\n",
       "      <th>3</th>\n",
       "      <td>Welcome</td>\n",
       "      <td>1</td>\n",
       "      <td>1</td>\n",
       "      <td>20 to 24 years</td>\n",
       "      <td>Richmond</td>\n",
       "      <td>Aug</td>\n",
       "      <td>2022.0</td>\n",
       "      <td>Email</td>\n",
       "      <td>True</td>\n",
       "      <td>2022</td>\n",
       "      <td>False</td>\n",
       "    </tr>\n",
       "    <tr>\n",
       "      <th>4</th>\n",
       "      <td>Senior</td>\n",
       "      <td>0</td>\n",
       "      <td>0</td>\n",
       "      <td>65 to 74 years</td>\n",
       "      <td>Sunset</td>\n",
       "      <td>Mar</td>\n",
       "      <td>2024.0</td>\n",
       "      <td>Print</td>\n",
       "      <td>False</td>\n",
       "      <td>2023</td>\n",
       "      <td>False</td>\n",
       "    </tr>\n",
       "    <tr>\n",
       "      <th>...</th>\n",
       "      <td>...</td>\n",
       "      <td>...</td>\n",
       "      <td>...</td>\n",
       "      <td>...</td>\n",
       "      <td>...</td>\n",
       "      <td>...</td>\n",
       "      <td>...</td>\n",
       "      <td>...</td>\n",
       "      <td>...</td>\n",
       "      <td>...</td>\n",
       "      <td>...</td>\n",
       "    </tr>\n",
       "    <tr>\n",
       "      <th>450354</th>\n",
       "      <td>Digital Access Card</td>\n",
       "      <td>0</td>\n",
       "      <td>0</td>\n",
       "      <td>35 to 44 years</td>\n",
       "      <td>Ingleside</td>\n",
       "      <td>NaN</td>\n",
       "      <td>NaN</td>\n",
       "      <td>Email</td>\n",
       "      <td>False</td>\n",
       "      <td>2023</td>\n",
       "      <td>NaN</td>\n",
       "    </tr>\n",
       "    <tr>\n",
       "      <th>450355</th>\n",
       "      <td>Digital Access Card</td>\n",
       "      <td>0</td>\n",
       "      <td>0</td>\n",
       "      <td>45 to 54 years</td>\n",
       "      <td>Ingleside</td>\n",
       "      <td>Aug</td>\n",
       "      <td>2022.0</td>\n",
       "      <td>Print</td>\n",
       "      <td>False</td>\n",
       "      <td>2022</td>\n",
       "      <td>NaN</td>\n",
       "    </tr>\n",
       "    <tr>\n",
       "      <th>450356</th>\n",
       "      <td>Digital Access Card</td>\n",
       "      <td>0</td>\n",
       "      <td>0</td>\n",
       "      <td>25 to 34 years</td>\n",
       "      <td>Ingleside</td>\n",
       "      <td>Aug</td>\n",
       "      <td>2022.0</td>\n",
       "      <td>Print</td>\n",
       "      <td>False</td>\n",
       "      <td>2022</td>\n",
       "      <td>NaN</td>\n",
       "    </tr>\n",
       "    <tr>\n",
       "      <th>450357</th>\n",
       "      <td>Digital Access Card</td>\n",
       "      <td>0</td>\n",
       "      <td>0</td>\n",
       "      <td>35 to 44 years</td>\n",
       "      <td>Ingleside</td>\n",
       "      <td>Apr</td>\n",
       "      <td>2022.0</td>\n",
       "      <td>Print</td>\n",
       "      <td>False</td>\n",
       "      <td>2022</td>\n",
       "      <td>NaN</td>\n",
       "    </tr>\n",
       "    <tr>\n",
       "      <th>450358</th>\n",
       "      <td>Digital Access Card</td>\n",
       "      <td>0</td>\n",
       "      <td>0</td>\n",
       "      <td>65 to 74 years</td>\n",
       "      <td>Bayview</td>\n",
       "      <td>Apr</td>\n",
       "      <td>2023.0</td>\n",
       "      <td>Email</td>\n",
       "      <td>False</td>\n",
       "      <td>2023</td>\n",
       "      <td>NaN</td>\n",
       "    </tr>\n",
       "  </tbody>\n",
       "</table>\n",
       "<p>450359 rows × 11 columns</p>\n",
       "</div>"
      ],
      "text/plain": [
       "       Patron Type Definition  Total Checkouts  Total Renewals  \\\n",
       "0                      Senior                5               0   \n",
       "1                       Adult                0               0   \n",
       "2                       Adult                0               0   \n",
       "3                     Welcome                1               1   \n",
       "4                      Senior                0               0   \n",
       "...                       ...              ...             ...   \n",
       "450354    Digital Access Card                0               0   \n",
       "450355    Digital Access Card                0               0   \n",
       "450356    Digital Access Card                0               0   \n",
       "450357    Digital Access Card                0               0   \n",
       "450358    Digital Access Card                0               0   \n",
       "\n",
       "                Age Range Home Library Definition Circulation Active Month  \\\n",
       "0       75 years and over                    Main                      Nov   \n",
       "1          45 to 54 years                    Main                      Jul   \n",
       "2          55 to 59 years        Western Addition                      Mar   \n",
       "3          20 to 24 years                Richmond                      Aug   \n",
       "4          65 to 74 years                  Sunset                      Mar   \n",
       "...                   ...                     ...                      ...   \n",
       "450354     35 to 44 years               Ingleside                      NaN   \n",
       "450355     45 to 54 years               Ingleside                      Aug   \n",
       "450356     25 to 34 years               Ingleside                      Aug   \n",
       "450357     35 to 44 years               Ingleside                      Apr   \n",
       "450358     65 to 74 years                 Bayview                      Apr   \n",
       "\n",
       "        Circulation Active Year Notice Preference Definition  \\\n",
       "0                        2022.0                        Email   \n",
       "1                        2023.0                        Email   \n",
       "2                        2024.0                        Email   \n",
       "3                        2022.0                        Email   \n",
       "4                        2024.0                        Print   \n",
       "...                         ...                          ...   \n",
       "450354                      NaN                        Email   \n",
       "450355                   2022.0                        Print   \n",
       "450356                   2022.0                        Print   \n",
       "450357                   2022.0                        Print   \n",
       "450358                   2023.0                        Email   \n",
       "\n",
       "        Provided Email Address  Year Patron Registered  \\\n",
       "0                         True                    2015   \n",
       "1                         True                    2019   \n",
       "2                         True                    2022   \n",
       "3                         True                    2022   \n",
       "4                        False                    2023   \n",
       "...                        ...                     ...   \n",
       "450354                   False                    2023   \n",
       "450355                   False                    2022   \n",
       "450356                   False                    2022   \n",
       "450357                   False                    2022   \n",
       "450358                   False                    2023   \n",
       "\n",
       "       Within San Francisco County  \n",
       "0                            False  \n",
       "1                            False  \n",
       "2                            False  \n",
       "3                            False  \n",
       "4                            False  \n",
       "...                            ...  \n",
       "450354                         NaN  \n",
       "450355                         NaN  \n",
       "450356                         NaN  \n",
       "450357                         NaN  \n",
       "450358                         NaN  \n",
       "\n",
       "[450359 rows x 11 columns]"
      ]
     },
     "execution_count": 7,
     "metadata": {},
     "output_type": "execute_result"
    }
   ],
   "source": [
    "df"
   ]
  },
  {
   "cell_type": "markdown",
   "id": "fa6f9e55-c061-4634-aa40-f32b33b828a3",
   "metadata": {},
   "source": [
    "Wie viele Merkmale besitzt der Datensatz?\n",
    "Der Datensatz besitzt 11 Merkmale, die hier durch die Spaltennamen repräsentiert werden."
   ]
  },
  {
   "cell_type": "markdown",
   "id": "da23261e-bdbe-42eb-bbb8-d644460f3cf3",
   "metadata": {},
   "source": [
    "Wie groß ist die Stichprobengröße des Datensatzes? 450359 (= die Anzahl der Zeilen)"
   ]
  },
  {
   "cell_type": "markdown",
   "id": "e7d811c9-949e-48a0-8620-faac51b0abfb",
   "metadata": {},
   "source": [
    "Wer oder was sind die Merkmalsträger? Die Merkmalsträger sind die Bibliotheksnutzer*innen an denen die Ausprägungen gemessen werden."
   ]
  },
  {
   "cell_type": "markdown",
   "id": "c07f393a-0790-4e76-a70d-a3e7f2556618",
   "metadata": {},
   "source": [
    "Von wann bis wann wurden die Daten erhoben? Vom 02. Dezember 2016 bis zum 25. März 2024 (einsehbar in den Metadaten unter https://data.sfgov.org/Culture-and-Recreation/Library-Usage/qzz6-2jup/about_data)"
   ]
  },
  {
   "cell_type": "markdown",
   "id": "9504c3f7-e4f3-49d1-9d5e-856224976432",
   "metadata": {},
   "source": [
    "Wie lässt sich die Grundgesamtheit beschreiben? Handelt es sich um eine Vollerhebung? Es handelt sich nicht um eine Vollerhebung, da nicht alle Kunden, sondern nur aktive Kunden mit einbezogen wurden. Aktive Kunden sind Kunden mit noch nicht abgelaufenen Bibliotheksausweisen und Kunden, die innerhalb der letzten drei Jahre eine Ausleihtätigkeit ausgeübt haben."
   ]
  },
  {
   "cell_type": "markdown",
   "id": "d9775611-037c-4795-b448-f7b70a102770",
   "metadata": {},
   "source": [
    "Welche Merkmale sind stetig? Welche diskret?\n",
    "- Patron Type Definition: Diskret, da nur abzählbar viele Werte angenommen werden können.\n",
    "- Total Checkouts: Diskret, da nur abzählbar viele Werte angenommen werden können.\n",
    "- Total Reneweals: Diskret, da nur abzählbar viele Werte angenommen werden können.\n",
    "- Age Range: Diskret, da es sich um abzählbar viele Gruppierungen von Altersklassen handelt. Wenn es keine Gruppierung gäbe, wäre das Merkmal dagegen stetig.\n",
    "- Home Library Definition: Diskret, da nur abzählbar viele Werte angenommen werden können.\n",
    "- Circulation Active Month: Diskret, da nur abzählbar viele Werte angenommen werden können.\n",
    "- Circulation Active Year: Diskret, da nur abzählbar viele Werte angenommen werden können.\n",
    "- Notice Preference Definition: Diskret, da nur abzählbar viele Werte angenommen werden können.\n",
    "- Provided Email Address: Diskret, da nur abzählbar viele Werte angenommen werden können.\n",
    "- Year Patron Registered: Diskret, da nur abzählbar viele Werte angenommen werden können.\n",
    "- Within San Francisco County: Diskret, da nur abzählbar viele Werte angenommen werden können."
   ]
  },
  {
   "cell_type": "markdown",
   "id": "4ce5e77a-48b7-4756-9739-8088536c7d80",
   "metadata": {},
   "source": [
    "Welchem Skalenniveau entsprechen die einzelnen Merkmale (Nominal-, Ordinal- oder Metrische Skala)?\n",
    "- Patron Type Definition: Nominalskala\n",
    "- Total Checkouts: Metrische Skala\n",
    "- Total Reneweals: Metrische Skala\n",
    "- Age Range: Ordinalskala\n",
    "- Home Library Definition: Nominalskala\n",
    "- Circulation Active Month: Ordinalskala\n",
    "- Circulation Active Year: Metrische Skala\n",
    "- Notice Preference Definition: Nominalskala\n",
    "- Provided Email Address: Nominalskala\n",
    "- Year Patron Registered: Metrische Skala\n",
    "- Within San Francisco County: Nominalskala"
   ]
  },
  {
   "cell_type": "markdown",
   "id": "70f6c672-d509-4dc0-ba09-598b7ae67637",
   "metadata": {},
   "source": [
    "Enthält der Datensatz fehlende Werte? Ja, in den Spalten Age Range, Home Library Definition, Circulation Active Month, Circulation Active Year, Notice Preference Definition und Within San Francisco County"
   ]
  },
  {
   "cell_type": "code",
   "execution_count": 16,
   "id": "b88c0382-5212-45c2-a428-f8cc3f0dbf46",
   "metadata": {},
   "outputs": [
    {
     "name": "stdout",
     "output_type": "stream",
     "text": [
      "Patron Type Definition              0\n",
      "Total Checkouts                     0\n",
      "Total Renewals                      0\n",
      "Age Range                         510\n",
      "Home Library Definition            30\n",
      "Circulation Active Month        40317\n",
      "Circulation Active Year         40317\n",
      "Notice Preference Definition     3315\n",
      "Provided Email Address              0\n",
      "Year Patron Registered              0\n",
      "Within San Francisco County       221\n",
      "dtype: int64\n"
     ]
    }
   ],
   "source": [
    "fehlende_werte = df.isnull().sum()\n",
    "print(fehlende_werte)"
   ]
  },
  {
   "cell_type": "markdown",
   "id": "06d7a038-bc3e-4a9d-845f-77d01b1d3d9d",
   "metadata": {},
   "source": [
    "Handelt es sich um Querschnitts-, Längsschnitss- oder Paneldaten? Es handelt sich um Paneldaten, da Beobachtungen von denselben Einheiten (Bibliotheksnutzer*innen) zu verschiedenen Zeitpunkten erhoben werden. "
   ]
  },
  {
   "cell_type": "markdown",
   "id": "f2d9a65a-a3c9-4ab5-bce4-94321fea6f83",
   "metadata": {},
   "source": [
    "# 2.5 Fallstudie: Feature Engineering"
   ]
  },
  {
   "cell_type": "code",
   "execution_count": 28,
   "id": "10289321-2fac-43b3-ae8c-fac776c51f1e",
   "metadata": {},
   "outputs": [
    {
     "data": {
      "text/plain": [
       "0         2022.0\n",
       "1         2023.0\n",
       "2         2024.0\n",
       "3         2022.0\n",
       "4         2024.0\n",
       "           ...  \n",
       "450354       NaN\n",
       "450355    2022.0\n",
       "450356    2022.0\n",
       "450357    2022.0\n",
       "450358    2023.0\n",
       "Name: Circulation Active Year, Length: 450359, dtype: float64"
      ]
     },
     "execution_count": 28,
     "metadata": {},
     "output_type": "execute_result"
    }
   ],
   "source": [
    "# Konvertieren der Spalte Circulation Active Year in ein numerisches Format. \n",
    "pd.to_numeric(\n",
    "  df['Circulation Active Year'], errors='coerce'\n",
    ")"
   ]
  },
  {
   "cell_type": "code",
   "execution_count": 36,
   "id": "ad3405e9-ea36-4fe2-b7e9-b4ef9b6a7bea",
   "metadata": {},
   "outputs": [],
   "source": [
    "# Konvertieren der Spalte Circulation Active Month in ein numerisches Format. \n",
    "df = pd.to_datetime(\n",
    "    df['Circulation Active Month'],\n",
    "    errors='coerce',\n",
    "    format=\"%b\"\n",
    ")\n"
   ]
  },
  {
   "cell_type": "code",
   "execution_count": 38,
   "id": "409e6332-9482-43b8-b3db-cb5d80df3c49",
   "metadata": {},
   "outputs": [
    {
     "ename": "KeyError",
     "evalue": "'Circulation Active Month'",
     "output_type": "error",
     "traceback": [
      "\u001b[0;31m---------------------------------------------------------------------------\u001b[0m",
      "\u001b[0;31mKeyError\u001b[0m                                  Traceback (most recent call last)",
      "Cell \u001b[0;32mIn[38], line 2\u001b[0m\n\u001b[1;32m      1\u001b[0m \u001b[38;5;66;03m# Monat als Zahl extrahieren\u001b[39;00m\n\u001b[0;32m----> 2\u001b[0m df[\u001b[38;5;124m'\u001b[39m\u001b[38;5;124mCirculation Active Month\u001b[39m\u001b[38;5;124m'\u001b[39m]\u001b[38;5;241m.\u001b[39mdt\u001b[38;5;241m.\u001b[39mmonth\n",
      "File \u001b[0;32m~/anaconda3/lib/python3.12/site-packages/pandas/core/series.py:1121\u001b[0m, in \u001b[0;36mSeries.__getitem__\u001b[0;34m(self, key)\u001b[0m\n\u001b[1;32m   1118\u001b[0m     \u001b[38;5;28;01mreturn\u001b[39;00m \u001b[38;5;28mself\u001b[39m\u001b[38;5;241m.\u001b[39m_values[key]\n\u001b[1;32m   1120\u001b[0m \u001b[38;5;28;01melif\u001b[39;00m key_is_scalar:\n\u001b[0;32m-> 1121\u001b[0m     \u001b[38;5;28;01mreturn\u001b[39;00m \u001b[38;5;28mself\u001b[39m\u001b[38;5;241m.\u001b[39m_get_value(key)\n\u001b[1;32m   1123\u001b[0m \u001b[38;5;66;03m# Convert generator to list before going through hashable part\u001b[39;00m\n\u001b[1;32m   1124\u001b[0m \u001b[38;5;66;03m# (We will iterate through the generator there to check for slices)\u001b[39;00m\n\u001b[1;32m   1125\u001b[0m \u001b[38;5;28;01mif\u001b[39;00m is_iterator(key):\n",
      "File \u001b[0;32m~/anaconda3/lib/python3.12/site-packages/pandas/core/series.py:1237\u001b[0m, in \u001b[0;36mSeries._get_value\u001b[0;34m(self, label, takeable)\u001b[0m\n\u001b[1;32m   1234\u001b[0m     \u001b[38;5;28;01mreturn\u001b[39;00m \u001b[38;5;28mself\u001b[39m\u001b[38;5;241m.\u001b[39m_values[label]\n\u001b[1;32m   1236\u001b[0m \u001b[38;5;66;03m# Similar to Index.get_value, but we do not fall back to positional\u001b[39;00m\n\u001b[0;32m-> 1237\u001b[0m loc \u001b[38;5;241m=\u001b[39m \u001b[38;5;28mself\u001b[39m\u001b[38;5;241m.\u001b[39mindex\u001b[38;5;241m.\u001b[39mget_loc(label)\n\u001b[1;32m   1239\u001b[0m \u001b[38;5;28;01mif\u001b[39;00m is_integer(loc):\n\u001b[1;32m   1240\u001b[0m     \u001b[38;5;28;01mreturn\u001b[39;00m \u001b[38;5;28mself\u001b[39m\u001b[38;5;241m.\u001b[39m_values[loc]\n",
      "File \u001b[0;32m~/anaconda3/lib/python3.12/site-packages/pandas/core/indexes/range.py:417\u001b[0m, in \u001b[0;36mRangeIndex.get_loc\u001b[0;34m(self, key)\u001b[0m\n\u001b[1;32m    415\u001b[0m         \u001b[38;5;28;01mraise\u001b[39;00m \u001b[38;5;167;01mKeyError\u001b[39;00m(key) \u001b[38;5;28;01mfrom\u001b[39;00m \u001b[38;5;21;01merr\u001b[39;00m\n\u001b[1;32m    416\u001b[0m \u001b[38;5;28;01mif\u001b[39;00m \u001b[38;5;28misinstance\u001b[39m(key, Hashable):\n\u001b[0;32m--> 417\u001b[0m     \u001b[38;5;28;01mraise\u001b[39;00m \u001b[38;5;167;01mKeyError\u001b[39;00m(key)\n\u001b[1;32m    418\u001b[0m \u001b[38;5;28mself\u001b[39m\u001b[38;5;241m.\u001b[39m_check_indexing_error(key)\n\u001b[1;32m    419\u001b[0m \u001b[38;5;28;01mraise\u001b[39;00m \u001b[38;5;167;01mKeyError\u001b[39;00m(key)\n",
      "\u001b[0;31mKeyError\u001b[0m: 'Circulation Active Month'"
     ]
    }
   ],
   "source": [
    "# Monat als Zahl extrahieren\n",
    "df['Circulation Active Month'].dt.month"
   ]
  },
  {
   "cell_type": "code",
   "execution_count": null,
   "id": "c11fcf43-4f94-403c-944a-5f415e78a4a8",
   "metadata": {},
   "outputs": [],
   "source": []
  }
 ],
 "metadata": {
  "kernelspec": {
   "display_name": "Python [conda env:base] *",
   "language": "python",
   "name": "conda-base-py"
  },
  "language_info": {
   "codemirror_mode": {
    "name": "ipython",
    "version": 3
   },
   "file_extension": ".py",
   "mimetype": "text/x-python",
   "name": "python",
   "nbconvert_exporter": "python",
   "pygments_lexer": "ipython3",
   "version": "3.12.7"
  }
 },
 "nbformat": 4,
 "nbformat_minor": 5
}
