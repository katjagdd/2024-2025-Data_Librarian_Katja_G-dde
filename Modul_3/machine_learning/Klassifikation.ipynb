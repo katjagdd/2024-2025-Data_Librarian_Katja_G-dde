{
 "cells": [
  {
   "cell_type": "code",
   "execution_count": null,
   "id": "a6d86aab-bb7b-4476-ae88-ae827eed3083",
   "metadata": {},
   "outputs": [],
   "source": []
  }
 ],
 "metadata": {
  "kernelspec": {
   "display_name": "",
   "name": ""
  },
  "language_info": {
   "name": ""
  }
 },
 "nbformat": 4,
 "nbformat_minor": 5
}
